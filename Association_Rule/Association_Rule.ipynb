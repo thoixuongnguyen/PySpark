{
  "nbformat": 4,
  "nbformat_minor": 0,
  "metadata": {
    "colab": {
      "name": "Association Rule.ipynb",
      "provenance": []
    },
    "kernelspec": {
      "display_name": "Python 3",
      "name": "python3"
    }
  },
  "cells": [
    {
      "cell_type": "code",
      "metadata": {
        "colab": {
          "base_uri": "https://localhost:8080/"
        },
        "id": "e04x5GWmYhiq",
        "outputId": "883556f2-d65c-45f2-8202-fa252743f9ef"
      },
      "source": [
        "import numpy as np\n",
        "import matplotlib.pyplot as plt\n",
        "import pandas as pd\n",
        "\n",
        "!pip install apyori\n",
        "from apyori import apriori"
      ],
      "execution_count": null,
      "outputs": [
        {
          "output_type": "stream",
          "text": [
            "Requirement already satisfied: apyori in /usr/local/lib/python3.7/dist-packages (1.1.2)\n"
          ],
          "name": "stdout"
        }
      ]
    },
    {
      "cell_type": "code",
      "metadata": {
        "colab": {
          "base_uri": "https://localhost:8080/"
        },
        "id": "EzNeGz2TQskG",
        "outputId": "05515606-410a-45b0-a84f-bf5c4c9c78c4"
      },
      "source": [
        "!pip install pyspark\n",
        "import pyspark\n",
        "from pyspark import SparkContext\n",
        "\n",
        "# Spark Context \n",
        "# Also extra coniguration can be added \n",
        "sc = SparkContext.getOrCreate()"
      ],
      "execution_count": null,
      "outputs": [
        {
          "output_type": "stream",
          "text": [
            "Collecting pyspark\n",
            "\u001b[?25l  Downloading https://files.pythonhosted.org/packages/27/67/5158f846202d7f012d1c9ca21c3549a58fd3c6707ae8ee823adcaca6473c/pyspark-3.0.2.tar.gz (204.8MB)\n",
            "\u001b[K     |████████████████████████████████| 204.8MB 80kB/s \n",
            "\u001b[?25hCollecting py4j==0.10.9\n",
            "\u001b[?25l  Downloading https://files.pythonhosted.org/packages/9e/b6/6a4fb90cd235dc8e265a6a2067f2a2c99f0d91787f06aca4bcf7c23f3f80/py4j-0.10.9-py2.py3-none-any.whl (198kB)\n",
            "\u001b[K     |████████████████████████████████| 204kB 22.0MB/s \n",
            "\u001b[?25hBuilding wheels for collected packages: pyspark\n",
            "  Building wheel for pyspark (setup.py) ... \u001b[?25l\u001b[?25hdone\n",
            "  Created wheel for pyspark: filename=pyspark-3.0.2-py2.py3-none-any.whl size=205186687 sha256=3cc991512e6b0bde71f1785eed891588dd111c5f039d0169a49efe9e0c3eeeb8\n",
            "  Stored in directory: /root/.cache/pip/wheels/8b/09/da/c1f2859bcc86375dc972c5b6af4881b3603269bcc4c9be5d16\n",
            "Successfully built pyspark\n",
            "Installing collected packages: py4j, pyspark\n",
            "Successfully installed py4j-0.10.9 pyspark-3.0.2\n"
          ],
          "name": "stdout"
        }
      ]
    },
    {
      "cell_type": "code",
      "metadata": {
        "colab": {
          "base_uri": "https://localhost:8080/"
        },
        "id": "lC7fVk0akxs6",
        "outputId": "c0c0aada-bec6-4e3f-e38f-6fe977b99897"
      },
      "source": [
        "file =  sc.textFile(\"/content/store_data.csv\")\n",
        "\n",
        "print(file.collect())"
      ],
      "execution_count": null,
      "outputs": [
        {
          "output_type": "stream",
          "text": [
            "['shrimp,almonds,avocado,vegetables mix,green grapes,whole weat flour,yams,cottage cheese,energy drink,tomato juice,low fat yogurt,green tea,honey,salad,mineral water,salmon,antioxydant juice,frozen smoothie,spinach,olive oil', 'burgers,meatballs,eggs,,,,,,,,,,,,,,,,,', 'chutney,,,,,,,,,,,,,,,,,,,', 'turkey,avocado,,,,,,,,,,,,,,,,,,', 'mineral water,milk,energy bar,whole wheat rice,green tea,,,,,,,,,,,,,,,', 'low fat yogurt,,,,,,,,,,,,,,,,,,,', 'whole wheat pasta,french fries,,,,,,,,,,,,,,,,,,', 'soup,light cream,shallot,,,,,,,,,,,,,,,,,', 'frozen vegetables,spaghetti,green tea,,,,,,,,,,,,,,,,,', 'french fries,,,,,,,,,,,,,,,,,,,', 'eggs,pet food,,,,,,,,,,,,,,,,,,', 'cookies,,,,,,,,,,,,,,,,,,,', 'turkey,burgers,mineral water,eggs,cooking oil,,,,,,,,,,,,,,,', 'spaghetti,champagne,cookies,,,,,,,,,,,,,,,,,', 'mineral water,salmon,,,,,,,,,,,,,,,,,,', 'mineral water,,,,,,,,,,,,,,,,,,,', 'shrimp,chocolate,chicken,honey,oil,cooking oil,low fat yogurt,,,,,,,,,,,,,', 'turkey,eggs,,,,,,,,,,,,,,,,,,', 'turkey,fresh tuna,tomatoes,spaghetti,mineral water,black tea,salmon,eggs,chicken,extra dark chocolate,,,,,,,,,,', 'meatballs,milk,honey,french fries,protein bar,,,,,,,,,,,,,,,', 'red wine,shrimp,pasta,pepper,eggs,chocolate,shampoo,,,,,,,,,,,,,', 'rice,sparkling water,,,,,,,,,,,,,,,,,,', 'spaghetti,mineral water,ham,body spray,pancakes,green tea,,,,,,,,,,,,,,', 'burgers,grated cheese,shrimp,pasta,avocado,honey,white wine,toothpaste,,,,,,,,,,,,', 'eggs,,,,,,,,,,,,,,,,,,,', 'parmesan cheese,spaghetti,soup,avocado,milk,fresh bread,,,,,,,,,,,,,,', 'ground beef,spaghetti,mineral water,milk,energy bar,black tea,salmon,frozen smoothie,escalope,,,,,,,,,,,', 'sparkling water,,,,,,,,,,,,,,,,,,,', 'mineral water,eggs,chicken,chocolate,french fries,,,,,,,,,,,,,,,', 'frozen vegetables,spaghetti,yams,mineral water,,,,,,,,,,,,,,,,', 'herb & pepper,tomato sauce,light cream,magazines,,,,,,,,,,,,,,,,', 'mineral water,chocolate,avocado,eggs,,,,,,,,,,,,,,,,', 'turkey,french fries,strawberries,,,,,,,,,,,,,,,,,', 'frozen vegetables,strong cheese,chocolate,,,,,,,,,,,,,,,,,', 'cookies,,,,,,,,,,,,,,,,,,,', 'pickles,spaghetti,salmon,escalope,,,,,,,,,,,,,,,,', 'energy bar,french fries,,,,,,,,,,,,,,,,,,', 'red wine,ground beef,mineral water,,,,,,,,,,,,,,,,,', 'mineral water,cake,cottage cheese,,,,,,,,,,,,,,,,,', 'pickles,champagne,green tea,,,,,,,,,,,,,,,,,', 'spaghetti,,,,,,,,,,,,,,,,,,,', 'fresh tuna,frozen vegetables,spaghetti,mineral water,honey,whole wheat rice,frozen smoothie,escalope,,,,,,,,,,,,', 'spaghetti,,,,,,,,,,,,,,,,,,,', 'soup,meatballs,hot dogs,sparkling water,,,,,,,,,,,,,,,,', 'escalope,,,,,,,,,,,,,,,,,,,', 'soup,avocado,french fries,hot dogs,brownies,body spray,pancakes,green tea,,,,,,,,,,,,', 'mineral water,chicken,cereals,clothes accessories,,,,,,,,,,,,,,,,', 'mineral water,bug spray,,,,,,,,,,,,,,,,,,', 'avocado,muffins,,,,,,,,,,,,,,,,,,', 'burgers,black tea,green tea,,,,,,,,,,,,,,,,,', 'spaghetti,chocolate,brownies,white wine,green tea,,,,,,,,,,,,,,,', 'fresh tuna,mineral water,eggs,,,,,,,,,,,,,,,,,', 'spaghetti,muffins,,,,,,,,,,,,,,,,,,', 'spaghetti,chocolate,,,,,,,,,,,,,,,,,,', 'french fries,escalope,champagne,,,,,,,,,,,,,,,,,', 'tomato sauce,light mayo,,,,,,,,,,,,,,,,,,', 'turkey,fresh tuna,frozen vegetables,tomatoes,ground beef,spaghetti,mineral water,chocolate,soup,milk,olive oil,,,,,,,,,', 'eggs,cookies,,,,,,,,,,,,,,,,,,', 'soup,chicken,gums,soda,body spray,energy drink,green tea,,,,,,,,,,,,,', 'turkey,frozen vegetables,mineral water,cider,cooking oil,green tea,,,,,,,,,,,,,,', 'spaghetti,,,,,,,,,,,,,,,,,,,', 'clothes accessories,,,,,,,,,,,,,,,,,,,', 'energy drink,,,,,,,,,,,,,,,,,,,', 'soup,bug spray,shallot,protein bar,green tea,,,,,,,,,,,,,,,', 'turkey,eggs,,,,,,,,,,,,,,,,,,', 'french fries,,,,,,,,,,,,,,,,,,,', 'chocolate,milk,,,,,,,,,,,,,,,,,,', 'herb & pepper,whole wheat pasta,ground beef,mineral water,avocado,cider,whole wheat rice,,,,,,,,,,,,,', 'cookies,,,,,,,,,,,,,,,,,,,', 'shrimp,pasta,,,,,,,,,,,,,,,,,,', 'grated cheese,herb & pepper,tomatoes,tomato sauce,corn,,,,,,,,,,,,,,,', 'burgers,escalope,shallot,,,,,,,,,,,,,,,,,', 'cookies,,,,,,,,,,,,,,,,,,,', 'yogurt cake,,,,,,,,,,,,,,,,,,,', 'soup,eggs,,,,,,,,,,,,,,,,,,', 'cookies,,,,,,,,,,,,,,,,,,,', 'mineral water,chocolate,low fat yogurt,,,,,,,,,,,,,,,,,', 'eggs,strawberries,,,,,,,,,,,,,,,,,,', 'grated cheese,ground beef,spaghetti,mineral water,white wine,,,,,,,,,,,,,,,', 'mint,,,,,,,,,,,,,,,,,,,', 'eggs,cake,french fries,,,,,,,,,,,,,,,,,', 'burgers,spaghetti,milk,french fries,green tea,,,,,,,,,,,,,,,', 'mineral water,energy bar,butter,french fries,,,,,,,,,,,,,,,,', 'burgers,grated cheese,herb & pepper,mineral water,eggs,cooking oil,,,,,,,,,,,,,,', 'energy bar,,,,,,,,,,,,,,,,,,,', 'energy bar,energy drink,,,,,,,,,,,,,,,,,,', 'chocolate,frozen smoothie,,,,,,,,,,,,,,,,,,', 'low fat yogurt,,,,,,,,,,,,,,,,,,,', 'asparagus,salad,,,,,,,,,,,,,,,,,,', 'burgers,french fries,low fat yogurt,green tea,,,,,,,,,,,,,,,,', 'low fat yogurt,,,,,,,,,,,,,,,,,,,', 'burgers,herb & pepper,shrimp,pasta,spaghetti,mineral water,meatballs,olive oil,energy bar,french wine,eggs,salt,,,,,,,,', 'champagne,low fat yogurt,,,,,,,,,,,,,,,,,,', 'champagne,,,,,,,,,,,,,,,,,,,', 'burgers,almonds,eggs,french fries,cookies,green tea,,,,,,,,,,,,,,', 'ham,soup,escalope,body spray,,,,,,,,,,,,,,,,', 'turkey,ham,frozen vegetables,pepper,oil,extra dark chocolate,tea,magazines,,,,,,,,,,,,', 'muffins,eggs,cookies,,,,,,,,,,,,,,,,,', 'cookies,,,,,,,,,,,,,,,,,,,', 'frozen vegetables,whole wheat pasta,ground beef,spaghetti,chocolate,green tea,,,,,,,,,,,,,,', 'mineral water,barbecue sauce,chocolate,,,,,,,,,,,,,,,,,', 'burgers,herb & pepper,energy bar,almonds,eggs,corn,mayonnaise,zucchini,,,,,,,,,,,,', 'turkey,burgers,ground beef,chocolate,soup,almonds,eggs,hot dogs,cottage cheese,,,,,,,,,,,', 'ham,spaghetti,chocolate,eggs,,,,,,,,,,,,,,,,', 'ground beef,energy bar,pet food,carrots,protein bar,,,,,,,,,,,,,,,', 'ground beef,tomato sauce,spaghetti,mineral water,almonds,eggs,,,,,,,,,,,,,,', 'mineral water,olive oil,gums,cooking oil,,,,,,,,,,,,,,,,', 'shrimp,pasta,mineral water,soup,avocado,milk,olive oil,green grapes,eggs,bug spray,,,,,,,,,,', 'shrimp,pasta,soup,cake,cooking oil,chicken,light mayo,low fat yogurt,,,,,,,,,,,,', 'spaghetti,mineral water,chocolate,french fries,champagne,escalope,mushroom cream sauce,fresh bread,,,,,,,,,,,,', 'shrimp,pasta,mineral water,eggs,,,,,,,,,,,,,,,,', 'burgers,oil,tomato juice,fresh bread,,,,,,,,,,,,,,,,', 'french wine,eggs,chocolate,low fat yogurt,,,,,,,,,,,,,,,,', 'chicken,eggs,french fries,pancakes,,,,,,,,,,,,,,,,', 'turkey,herb & pepper,salmon,white wine,candy bars,,,,,,,,,,,,,,,', 'grated cheese,spaghetti,olive oil,eggs,french fries,green tea,,,,,,,,,,,,,,', 'mineral water,energy bar,,,,,,,,,,,,,,,,,,', 'eggs,french fries,,,,,,,,,,,,,,,,,,', 'burgers,tomatoes,mineral water,soup,milk,almonds,eggs,chocolate,tomato juice,,,,,,,,,,,', 'muffins,,,,,,,,,,,,,,,,,,,', 'pasta,,,,,,,,,,,,,,,,,,,', 'tomatoes,spaghetti,frozen smoothie,,,,,,,,,,,,,,,,,', 'ground beef,spaghetti,milk,,,,,,,,,,,,,,,,,', 'french fries,,,,,,,,,,,,,,,,,,,', 'chocolate,milk,,,,,,,,,,,,,,,,,,', 'burgers,shrimp,pasta,frozen vegetables,spaghetti,mineral water,milk,eggs,chocolate,french fries,pancakes,low fat yogurt,,,,,,,,', 'ground beef,mineral water,antioxydant juice,protein bar,,,,,,,,,,,,,,,,', 'grated cheese,whole wheat pasta,ground beef,spaghetti,cake,energy drink,,,,,,,,,,,,,,', 'grated cheese,,,,,,,,,,,,,,,,,,,', 'pancakes,,,,,,,,,,,,,,,,,,,', 'frozen smoothie,,,,,,,,,,,,,,,,,,,', 'carrots,green tea,,,,,,,,,,,,,,,,,,', 'chocolate,,,,,,,,,,,,,,,,,,,', 'turkey,burgers,chocolate,olive oil,eggs,cooking oil,corn,,,,,,,,,,,,,', 'frozen vegetables,tomatoes,pepper,spaghetti,mineral water,pancakes,chicken,chili,tea,french fries,tomato juice,fresh bread,,,,,,,,', 'cookies,,,,,,,,,,,,,,,,,,,', 'ground beef,,,,,,,,,,,,,,,,,,,', 'turkey,eggs,chocolate,frozen smoothie,tomato juice,,,,,,,,,,,,,,,', 'frozen vegetables,cooking oil,mashed potato,,,,,,,,,,,,,,,,,', 'frozen vegetables,ground beef,tomato sauce,mineral water,meatballs,olive oil,light cream,tomato juice,,,,,,,,,,,,', 'red wine,spaghetti,mineral water,soup,milk,eggs,cake,gums,cooking oil,chocolate,frozen smoothie,,,,,,,,,']\n"
          ],
          "name": "stdout"
        }
      ]
    },
    {
      "cell_type": "code",
      "metadata": {
        "colab": {
          "base_uri": "https://localhost:8080/"
        },
        "id": "3qdi_ihNhZKC",
        "outputId": "4bf73189-958c-4860-9ddc-734eba69ba77"
      },
      "source": [
        "## Splited items  \n",
        "lblitems = file.map(lambda line: line.split(','))\n",
        "\n",
        "print(lblitems.collect())\n"
      ],
      "execution_count": null,
      "outputs": [
        {
          "output_type": "stream",
          "text": [
            "[['shrimp', 'almonds', 'avocado', 'vegetables mix', 'green grapes', 'whole weat flour', 'yams', 'cottage cheese', 'energy drink', 'tomato juice', 'low fat yogurt', 'green tea', 'honey', 'salad', 'mineral water', 'salmon', 'antioxydant juice', 'frozen smoothie', 'spinach', 'olive oil'], ['burgers', 'meatballs', 'eggs', '', '', '', '', '', '', '', '', '', '', '', '', '', '', '', '', ''], ['chutney', '', '', '', '', '', '', '', '', '', '', '', '', '', '', '', '', '', '', ''], ['turkey', 'avocado', '', '', '', '', '', '', '', '', '', '', '', '', '', '', '', '', '', ''], ['mineral water', 'milk', 'energy bar', 'whole wheat rice', 'green tea', '', '', '', '', '', '', '', '', '', '', '', '', '', '', ''], ['low fat yogurt', '', '', '', '', '', '', '', '', '', '', '', '', '', '', '', '', '', '', ''], ['whole wheat pasta', 'french fries', '', '', '', '', '', '', '', '', '', '', '', '', '', '', '', '', '', ''], ['soup', 'light cream', 'shallot', '', '', '', '', '', '', '', '', '', '', '', '', '', '', '', '', ''], ['frozen vegetables', 'spaghetti', 'green tea', '', '', '', '', '', '', '', '', '', '', '', '', '', '', '', '', ''], ['french fries', '', '', '', '', '', '', '', '', '', '', '', '', '', '', '', '', '', '', ''], ['eggs', 'pet food', '', '', '', '', '', '', '', '', '', '', '', '', '', '', '', '', '', ''], ['cookies', '', '', '', '', '', '', '', '', '', '', '', '', '', '', '', '', '', '', ''], ['turkey', 'burgers', 'mineral water', 'eggs', 'cooking oil', '', '', '', '', '', '', '', '', '', '', '', '', '', '', ''], ['spaghetti', 'champagne', 'cookies', '', '', '', '', '', '', '', '', '', '', '', '', '', '', '', '', ''], ['mineral water', 'salmon', '', '', '', '', '', '', '', '', '', '', '', '', '', '', '', '', '', ''], ['mineral water', '', '', '', '', '', '', '', '', '', '', '', '', '', '', '', '', '', '', ''], ['shrimp', 'chocolate', 'chicken', 'honey', 'oil', 'cooking oil', 'low fat yogurt', '', '', '', '', '', '', '', '', '', '', '', '', ''], ['turkey', 'eggs', '', '', '', '', '', '', '', '', '', '', '', '', '', '', '', '', '', ''], ['turkey', 'fresh tuna', 'tomatoes', 'spaghetti', 'mineral water', 'black tea', 'salmon', 'eggs', 'chicken', 'extra dark chocolate', '', '', '', '', '', '', '', '', '', ''], ['meatballs', 'milk', 'honey', 'french fries', 'protein bar', '', '', '', '', '', '', '', '', '', '', '', '', '', '', ''], ['red wine', 'shrimp', 'pasta', 'pepper', 'eggs', 'chocolate', 'shampoo', '', '', '', '', '', '', '', '', '', '', '', '', ''], ['rice', 'sparkling water', '', '', '', '', '', '', '', '', '', '', '', '', '', '', '', '', '', ''], ['spaghetti', 'mineral water', 'ham', 'body spray', 'pancakes', 'green tea', '', '', '', '', '', '', '', '', '', '', '', '', '', ''], ['burgers', 'grated cheese', 'shrimp', 'pasta', 'avocado', 'honey', 'white wine', 'toothpaste', '', '', '', '', '', '', '', '', '', '', '', ''], ['eggs', '', '', '', '', '', '', '', '', '', '', '', '', '', '', '', '', '', '', ''], ['parmesan cheese', 'spaghetti', 'soup', 'avocado', 'milk', 'fresh bread', '', '', '', '', '', '', '', '', '', '', '', '', '', ''], ['ground beef', 'spaghetti', 'mineral water', 'milk', 'energy bar', 'black tea', 'salmon', 'frozen smoothie', 'escalope', '', '', '', '', '', '', '', '', '', '', ''], ['sparkling water', '', '', '', '', '', '', '', '', '', '', '', '', '', '', '', '', '', '', ''], ['mineral water', 'eggs', 'chicken', 'chocolate', 'french fries', '', '', '', '', '', '', '', '', '', '', '', '', '', '', ''], ['frozen vegetables', 'spaghetti', 'yams', 'mineral water', '', '', '', '', '', '', '', '', '', '', '', '', '', '', '', ''], ['herb & pepper', 'tomato sauce', 'light cream', 'magazines', '', '', '', '', '', '', '', '', '', '', '', '', '', '', '', ''], ['mineral water', 'chocolate', 'avocado', 'eggs', '', '', '', '', '', '', '', '', '', '', '', '', '', '', '', ''], ['turkey', 'french fries', 'strawberries', '', '', '', '', '', '', '', '', '', '', '', '', '', '', '', '', ''], ['frozen vegetables', 'strong cheese', 'chocolate', '', '', '', '', '', '', '', '', '', '', '', '', '', '', '', '', ''], ['cookies', '', '', '', '', '', '', '', '', '', '', '', '', '', '', '', '', '', '', ''], ['pickles', 'spaghetti', 'salmon', 'escalope', '', '', '', '', '', '', '', '', '', '', '', '', '', '', '', ''], ['energy bar', 'french fries', '', '', '', '', '', '', '', '', '', '', '', '', '', '', '', '', '', ''], ['red wine', 'ground beef', 'mineral water', '', '', '', '', '', '', '', '', '', '', '', '', '', '', '', '', ''], ['mineral water', 'cake', 'cottage cheese', '', '', '', '', '', '', '', '', '', '', '', '', '', '', '', '', ''], ['pickles', 'champagne', 'green tea', '', '', '', '', '', '', '', '', '', '', '', '', '', '', '', '', ''], ['spaghetti', '', '', '', '', '', '', '', '', '', '', '', '', '', '', '', '', '', '', ''], ['fresh tuna', 'frozen vegetables', 'spaghetti', 'mineral water', 'honey', 'whole wheat rice', 'frozen smoothie', 'escalope', '', '', '', '', '', '', '', '', '', '', '', ''], ['spaghetti', '', '', '', '', '', '', '', '', '', '', '', '', '', '', '', '', '', '', ''], ['soup', 'meatballs', 'hot dogs', 'sparkling water', '', '', '', '', '', '', '', '', '', '', '', '', '', '', '', ''], ['escalope', '', '', '', '', '', '', '', '', '', '', '', '', '', '', '', '', '', '', ''], ['soup', 'avocado', 'french fries', 'hot dogs', 'brownies', 'body spray', 'pancakes', 'green tea', '', '', '', '', '', '', '', '', '', '', '', ''], ['mineral water', 'chicken', 'cereals', 'clothes accessories', '', '', '', '', '', '', '', '', '', '', '', '', '', '', '', ''], ['mineral water', 'bug spray', '', '', '', '', '', '', '', '', '', '', '', '', '', '', '', '', '', ''], ['avocado', 'muffins', '', '', '', '', '', '', '', '', '', '', '', '', '', '', '', '', '', ''], ['burgers', 'black tea', 'green tea', '', '', '', '', '', '', '', '', '', '', '', '', '', '', '', '', ''], ['spaghetti', 'chocolate', 'brownies', 'white wine', 'green tea', '', '', '', '', '', '', '', '', '', '', '', '', '', '', ''], ['fresh tuna', 'mineral water', 'eggs', '', '', '', '', '', '', '', '', '', '', '', '', '', '', '', '', ''], ['spaghetti', 'muffins', '', '', '', '', '', '', '', '', '', '', '', '', '', '', '', '', '', ''], ['spaghetti', 'chocolate', '', '', '', '', '', '', '', '', '', '', '', '', '', '', '', '', '', ''], ['french fries', 'escalope', 'champagne', '', '', '', '', '', '', '', '', '', '', '', '', '', '', '', '', ''], ['tomato sauce', 'light mayo', '', '', '', '', '', '', '', '', '', '', '', '', '', '', '', '', '', ''], ['turkey', 'fresh tuna', 'frozen vegetables', 'tomatoes', 'ground beef', 'spaghetti', 'mineral water', 'chocolate', 'soup', 'milk', 'olive oil', '', '', '', '', '', '', '', '', ''], ['eggs', 'cookies', '', '', '', '', '', '', '', '', '', '', '', '', '', '', '', '', '', ''], ['soup', 'chicken', 'gums', 'soda', 'body spray', 'energy drink', 'green tea', '', '', '', '', '', '', '', '', '', '', '', '', ''], ['turkey', 'frozen vegetables', 'mineral water', 'cider', 'cooking oil', 'green tea', '', '', '', '', '', '', '', '', '', '', '', '', '', ''], ['spaghetti', '', '', '', '', '', '', '', '', '', '', '', '', '', '', '', '', '', '', ''], ['clothes accessories', '', '', '', '', '', '', '', '', '', '', '', '', '', '', '', '', '', '', ''], ['energy drink', '', '', '', '', '', '', '', '', '', '', '', '', '', '', '', '', '', '', ''], ['soup', 'bug spray', 'shallot', 'protein bar', 'green tea', '', '', '', '', '', '', '', '', '', '', '', '', '', '', ''], ['turkey', 'eggs', '', '', '', '', '', '', '', '', '', '', '', '', '', '', '', '', '', ''], ['french fries', '', '', '', '', '', '', '', '', '', '', '', '', '', '', '', '', '', '', ''], ['chocolate', 'milk', '', '', '', '', '', '', '', '', '', '', '', '', '', '', '', '', '', ''], ['herb & pepper', 'whole wheat pasta', 'ground beef', 'mineral water', 'avocado', 'cider', 'whole wheat rice', '', '', '', '', '', '', '', '', '', '', '', '', ''], ['cookies', '', '', '', '', '', '', '', '', '', '', '', '', '', '', '', '', '', '', ''], ['shrimp', 'pasta', '', '', '', '', '', '', '', '', '', '', '', '', '', '', '', '', '', ''], ['grated cheese', 'herb & pepper', 'tomatoes', 'tomato sauce', 'corn', '', '', '', '', '', '', '', '', '', '', '', '', '', '', ''], ['burgers', 'escalope', 'shallot', '', '', '', '', '', '', '', '', '', '', '', '', '', '', '', '', ''], ['cookies', '', '', '', '', '', '', '', '', '', '', '', '', '', '', '', '', '', '', ''], ['yogurt cake', '', '', '', '', '', '', '', '', '', '', '', '', '', '', '', '', '', '', ''], ['soup', 'eggs', '', '', '', '', '', '', '', '', '', '', '', '', '', '', '', '', '', ''], ['cookies', '', '', '', '', '', '', '', '', '', '', '', '', '', '', '', '', '', '', ''], ['mineral water', 'chocolate', 'low fat yogurt', '', '', '', '', '', '', '', '', '', '', '', '', '', '', '', '', ''], ['eggs', 'strawberries', '', '', '', '', '', '', '', '', '', '', '', '', '', '', '', '', '', ''], ['grated cheese', 'ground beef', 'spaghetti', 'mineral water', 'white wine', '', '', '', '', '', '', '', '', '', '', '', '', '', '', ''], ['mint', '', '', '', '', '', '', '', '', '', '', '', '', '', '', '', '', '', '', ''], ['eggs', 'cake', 'french fries', '', '', '', '', '', '', '', '', '', '', '', '', '', '', '', '', ''], ['burgers', 'spaghetti', 'milk', 'french fries', 'green tea', '', '', '', '', '', '', '', '', '', '', '', '', '', '', ''], ['mineral water', 'energy bar', 'butter', 'french fries', '', '', '', '', '', '', '', '', '', '', '', '', '', '', '', ''], ['burgers', 'grated cheese', 'herb & pepper', 'mineral water', 'eggs', 'cooking oil', '', '', '', '', '', '', '', '', '', '', '', '', '', ''], ['energy bar', '', '', '', '', '', '', '', '', '', '', '', '', '', '', '', '', '', '', ''], ['energy bar', 'energy drink', '', '', '', '', '', '', '', '', '', '', '', '', '', '', '', '', '', ''], ['chocolate', 'frozen smoothie', '', '', '', '', '', '', '', '', '', '', '', '', '', '', '', '', '', ''], ['low fat yogurt', '', '', '', '', '', '', '', '', '', '', '', '', '', '', '', '', '', '', ''], ['asparagus', 'salad', '', '', '', '', '', '', '', '', '', '', '', '', '', '', '', '', '', ''], ['burgers', 'french fries', 'low fat yogurt', 'green tea', '', '', '', '', '', '', '', '', '', '', '', '', '', '', '', ''], ['low fat yogurt', '', '', '', '', '', '', '', '', '', '', '', '', '', '', '', '', '', '', ''], ['burgers', 'herb & pepper', 'shrimp', 'pasta', 'spaghetti', 'mineral water', 'meatballs', 'olive oil', 'energy bar', 'french wine', 'eggs', 'salt', '', '', '', '', '', '', '', ''], ['champagne', 'low fat yogurt', '', '', '', '', '', '', '', '', '', '', '', '', '', '', '', '', '', ''], ['champagne', '', '', '', '', '', '', '', '', '', '', '', '', '', '', '', '', '', '', ''], ['burgers', 'almonds', 'eggs', 'french fries', 'cookies', 'green tea', '', '', '', '', '', '', '', '', '', '', '', '', '', ''], ['ham', 'soup', 'escalope', 'body spray', '', '', '', '', '', '', '', '', '', '', '', '', '', '', '', ''], ['turkey', 'ham', 'frozen vegetables', 'pepper', 'oil', 'extra dark chocolate', 'tea', 'magazines', '', '', '', '', '', '', '', '', '', '', '', ''], ['muffins', 'eggs', 'cookies', '', '', '', '', '', '', '', '', '', '', '', '', '', '', '', '', ''], ['cookies', '', '', '', '', '', '', '', '', '', '', '', '', '', '', '', '', '', '', ''], ['frozen vegetables', 'whole wheat pasta', 'ground beef', 'spaghetti', 'chocolate', 'green tea', '', '', '', '', '', '', '', '', '', '', '', '', '', ''], ['mineral water', 'barbecue sauce', 'chocolate', '', '', '', '', '', '', '', '', '', '', '', '', '', '', '', '', ''], ['burgers', 'herb & pepper', 'energy bar', 'almonds', 'eggs', 'corn', 'mayonnaise', 'zucchini', '', '', '', '', '', '', '', '', '', '', '', ''], ['turkey', 'burgers', 'ground beef', 'chocolate', 'soup', 'almonds', 'eggs', 'hot dogs', 'cottage cheese', '', '', '', '', '', '', '', '', '', '', ''], ['ham', 'spaghetti', 'chocolate', 'eggs', '', '', '', '', '', '', '', '', '', '', '', '', '', '', '', ''], ['ground beef', 'energy bar', 'pet food', 'carrots', 'protein bar', '', '', '', '', '', '', '', '', '', '', '', '', '', '', ''], ['ground beef', 'tomato sauce', 'spaghetti', 'mineral water', 'almonds', 'eggs', '', '', '', '', '', '', '', '', '', '', '', '', '', ''], ['mineral water', 'olive oil', 'gums', 'cooking oil', '', '', '', '', '', '', '', '', '', '', '', '', '', '', '', ''], ['shrimp', 'pasta', 'mineral water', 'soup', 'avocado', 'milk', 'olive oil', 'green grapes', 'eggs', 'bug spray', '', '', '', '', '', '', '', '', '', ''], ['shrimp', 'pasta', 'soup', 'cake', 'cooking oil', 'chicken', 'light mayo', 'low fat yogurt', '', '', '', '', '', '', '', '', '', '', '', ''], ['spaghetti', 'mineral water', 'chocolate', 'french fries', 'champagne', 'escalope', 'mushroom cream sauce', 'fresh bread', '', '', '', '', '', '', '', '', '', '', '', ''], ['shrimp', 'pasta', 'mineral water', 'eggs', '', '', '', '', '', '', '', '', '', '', '', '', '', '', '', ''], ['burgers', 'oil', 'tomato juice', 'fresh bread', '', '', '', '', '', '', '', '', '', '', '', '', '', '', '', ''], ['french wine', 'eggs', 'chocolate', 'low fat yogurt', '', '', '', '', '', '', '', '', '', '', '', '', '', '', '', ''], ['chicken', 'eggs', 'french fries', 'pancakes', '', '', '', '', '', '', '', '', '', '', '', '', '', '', '', ''], ['turkey', 'herb & pepper', 'salmon', 'white wine', 'candy bars', '', '', '', '', '', '', '', '', '', '', '', '', '', '', ''], ['grated cheese', 'spaghetti', 'olive oil', 'eggs', 'french fries', 'green tea', '', '', '', '', '', '', '', '', '', '', '', '', '', ''], ['mineral water', 'energy bar', '', '', '', '', '', '', '', '', '', '', '', '', '', '', '', '', '', ''], ['eggs', 'french fries', '', '', '', '', '', '', '', '', '', '', '', '', '', '', '', '', '', ''], ['burgers', 'tomatoes', 'mineral water', 'soup', 'milk', 'almonds', 'eggs', 'chocolate', 'tomato juice', '', '', '', '', '', '', '', '', '', '', ''], ['muffins', '', '', '', '', '', '', '', '', '', '', '', '', '', '', '', '', '', '', ''], ['pasta', '', '', '', '', '', '', '', '', '', '', '', '', '', '', '', '', '', '', ''], ['tomatoes', 'spaghetti', 'frozen smoothie', '', '', '', '', '', '', '', '', '', '', '', '', '', '', '', '', ''], ['ground beef', 'spaghetti', 'milk', '', '', '', '', '', '', '', '', '', '', '', '', '', '', '', '', ''], ['french fries', '', '', '', '', '', '', '', '', '', '', '', '', '', '', '', '', '', '', ''], ['chocolate', 'milk', '', '', '', '', '', '', '', '', '', '', '', '', '', '', '', '', '', ''], ['burgers', 'shrimp', 'pasta', 'frozen vegetables', 'spaghetti', 'mineral water', 'milk', 'eggs', 'chocolate', 'french fries', 'pancakes', 'low fat yogurt', '', '', '', '', '', '', '', ''], ['ground beef', 'mineral water', 'antioxydant juice', 'protein bar', '', '', '', '', '', '', '', '', '', '', '', '', '', '', '', ''], ['grated cheese', 'whole wheat pasta', 'ground beef', 'spaghetti', 'cake', 'energy drink', '', '', '', '', '', '', '', '', '', '', '', '', '', ''], ['grated cheese', '', '', '', '', '', '', '', '', '', '', '', '', '', '', '', '', '', '', ''], ['pancakes', '', '', '', '', '', '', '', '', '', '', '', '', '', '', '', '', '', '', ''], ['frozen smoothie', '', '', '', '', '', '', '', '', '', '', '', '', '', '', '', '', '', '', ''], ['carrots', 'green tea', '', '', '', '', '', '', '', '', '', '', '', '', '', '', '', '', '', ''], ['chocolate', '', '', '', '', '', '', '', '', '', '', '', '', '', '', '', '', '', '', ''], ['turkey', 'burgers', 'chocolate', 'olive oil', 'eggs', 'cooking oil', 'corn', '', '', '', '', '', '', '', '', '', '', '', '', ''], ['frozen vegetables', 'tomatoes', 'pepper', 'spaghetti', 'mineral water', 'pancakes', 'chicken', 'chili', 'tea', 'french fries', 'tomato juice', 'fresh bread', '', '', '', '', '', '', '', ''], ['cookies', '', '', '', '', '', '', '', '', '', '', '', '', '', '', '', '', '', '', ''], ['ground beef', '', '', '', '', '', '', '', '', '', '', '', '', '', '', '', '', '', '', ''], ['turkey', 'eggs', 'chocolate', 'frozen smoothie', 'tomato juice', '', '', '', '', '', '', '', '', '', '', '', '', '', '', ''], ['frozen vegetables', 'cooking oil', 'mashed potato', '', '', '', '', '', '', '', '', '', '', '', '', '', '', '', '', ''], ['frozen vegetables', 'ground beef', 'tomato sauce', 'mineral water', 'meatballs', 'olive oil', 'light cream', 'tomato juice', '', '', '', '', '', '', '', '', '', '', '', ''], ['red wine', 'spaghetti', 'mineral water', 'soup', 'milk', 'eggs', 'cake', 'gums', 'cooking oil', 'chocolate', 'frozen smoothie', '', '', '', '', '', '', '', '', '']]\n"
          ],
          "name": "stdout"
        }
      ]
    },
    {
      "cell_type": "code",
      "metadata": {
        "colab": {
          "base_uri": "https://localhost:8080/"
        },
        "id": "1JtYj23ihVS8",
        "outputId": "f434356e-6f62-45e1-900b-59c345d6b2fa"
      },
      "source": [
        "## Whole lines in single array \n",
        "items = file.flatMap(lambda line:line.split(','))\n",
        "\n",
        "print(items.collect())"
      ],
      "execution_count": null,
      "outputs": [
        {
          "output_type": "stream",
          "text": [
            "['shrimp', 'almonds', 'avocado', 'vegetables mix', 'green grapes', 'whole weat flour', 'yams', 'cottage cheese', 'energy drink', 'tomato juice', 'low fat yogurt', 'green tea', 'honey', 'salad', 'mineral water', 'salmon', 'antioxydant juice', 'frozen smoothie', 'spinach', 'olive oil', 'burgers', 'meatballs', 'eggs', '', '', '', '', '', '', '', '', '', '', '', '', '', '', '', '', '', 'chutney', '', '', '', '', '', '', '', '', '', '', '', '', '', '', '', '', '', '', '', 'turkey', 'avocado', '', '', '', '', '', '', '', '', '', '', '', '', '', '', '', '', '', '', 'mineral water', 'milk', 'energy bar', 'whole wheat rice', 'green tea', '', '', '', '', '', '', '', '', '', '', '', '', '', '', '', 'low fat yogurt', '', '', '', '', '', '', '', '', '', '', '', '', '', '', '', '', '', '', '', 'whole wheat pasta', 'french fries', '', '', '', '', '', '', '', '', '', '', '', '', '', '', '', '', '', '', 'soup', 'light cream', 'shallot', '', '', '', '', '', '', '', '', '', '', '', '', '', '', '', '', '', 'frozen vegetables', 'spaghetti', 'green tea', '', '', '', '', '', '', '', '', '', '', '', '', '', '', '', '', '', 'french fries', '', '', '', '', '', '', '', '', '', '', '', '', '', '', '', '', '', '', '', 'eggs', 'pet food', '', '', '', '', '', '', '', '', '', '', '', '', '', '', '', '', '', '', 'cookies', '', '', '', '', '', '', '', '', '', '', '', '', '', '', '', '', '', '', '', 'turkey', 'burgers', 'mineral water', 'eggs', 'cooking oil', '', '', '', '', '', '', '', '', '', '', '', '', '', '', '', 'spaghetti', 'champagne', 'cookies', '', '', '', '', '', '', '', '', '', '', '', '', '', '', '', '', '', 'mineral water', 'salmon', '', '', '', '', '', '', '', '', '', '', '', '', '', '', '', '', '', '', 'mineral water', '', '', '', '', '', '', '', '', '', '', '', '', '', '', '', '', '', '', '', 'shrimp', 'chocolate', 'chicken', 'honey', 'oil', 'cooking oil', 'low fat yogurt', '', '', '', '', '', '', '', '', '', '', '', '', '', 'turkey', 'eggs', '', '', '', '', '', '', '', '', '', '', '', '', '', '', '', '', '', '', 'turkey', 'fresh tuna', 'tomatoes', 'spaghetti', 'mineral water', 'black tea', 'salmon', 'eggs', 'chicken', 'extra dark chocolate', '', '', '', '', '', '', '', '', '', '', 'meatballs', 'milk', 'honey', 'french fries', 'protein bar', '', '', '', '', '', '', '', '', '', '', '', '', '', '', '', 'red wine', 'shrimp', 'pasta', 'pepper', 'eggs', 'chocolate', 'shampoo', '', '', '', '', '', '', '', '', '', '', '', '', '', 'rice', 'sparkling water', '', '', '', '', '', '', '', '', '', '', '', '', '', '', '', '', '', '', 'spaghetti', 'mineral water', 'ham', 'body spray', 'pancakes', 'green tea', '', '', '', '', '', '', '', '', '', '', '', '', '', '', 'burgers', 'grated cheese', 'shrimp', 'pasta', 'avocado', 'honey', 'white wine', 'toothpaste', '', '', '', '', '', '', '', '', '', '', '', '', 'eggs', '', '', '', '', '', '', '', '', '', '', '', '', '', '', '', '', '', '', '', 'parmesan cheese', 'spaghetti', 'soup', 'avocado', 'milk', 'fresh bread', '', '', '', '', '', '', '', '', '', '', '', '', '', '', 'ground beef', 'spaghetti', 'mineral water', 'milk', 'energy bar', 'black tea', 'salmon', 'frozen smoothie', 'escalope', '', '', '', '', '', '', '', '', '', '', '', 'sparkling water', '', '', '', '', '', '', '', '', '', '', '', '', '', '', '', '', '', '', '', 'mineral water', 'eggs', 'chicken', 'chocolate', 'french fries', '', '', '', '', '', '', '', '', '', '', '', '', '', '', '', 'frozen vegetables', 'spaghetti', 'yams', 'mineral water', '', '', '', '', '', '', '', '', '', '', '', '', '', '', '', '', 'herb & pepper', 'tomato sauce', 'light cream', 'magazines', '', '', '', '', '', '', '', '', '', '', '', '', '', '', '', '', 'mineral water', 'chocolate', 'avocado', 'eggs', '', '', '', '', '', '', '', '', '', '', '', '', '', '', '', '', 'turkey', 'french fries', 'strawberries', '', '', '', '', '', '', '', '', '', '', '', '', '', '', '', '', '', 'frozen vegetables', 'strong cheese', 'chocolate', '', '', '', '', '', '', '', '', '', '', '', '', '', '', '', '', '', 'cookies', '', '', '', '', '', '', '', '', '', '', '', '', '', '', '', '', '', '', '', 'pickles', 'spaghetti', 'salmon', 'escalope', '', '', '', '', '', '', '', '', '', '', '', '', '', '', '', '', 'energy bar', 'french fries', '', '', '', '', '', '', '', '', '', '', '', '', '', '', '', '', '', '', 'red wine', 'ground beef', 'mineral water', '', '', '', '', '', '', '', '', '', '', '', '', '', '', '', '', '', 'mineral water', 'cake', 'cottage cheese', '', '', '', '', '', '', '', '', '', '', '', '', '', '', '', '', '', 'pickles', 'champagne', 'green tea', '', '', '', '', '', '', '', '', '', '', '', '', '', '', '', '', '', 'spaghetti', '', '', '', '', '', '', '', '', '', '', '', '', '', '', '', '', '', '', '', 'fresh tuna', 'frozen vegetables', 'spaghetti', 'mineral water', 'honey', 'whole wheat rice', 'frozen smoothie', 'escalope', '', '', '', '', '', '', '', '', '', '', '', '', 'spaghetti', '', '', '', '', '', '', '', '', '', '', '', '', '', '', '', '', '', '', '', 'soup', 'meatballs', 'hot dogs', 'sparkling water', '', '', '', '', '', '', '', '', '', '', '', '', '', '', '', '', 'escalope', '', '', '', '', '', '', '', '', '', '', '', '', '', '', '', '', '', '', '', 'soup', 'avocado', 'french fries', 'hot dogs', 'brownies', 'body spray', 'pancakes', 'green tea', '', '', '', '', '', '', '', '', '', '', '', '', 'mineral water', 'chicken', 'cereals', 'clothes accessories', '', '', '', '', '', '', '', '', '', '', '', '', '', '', '', '', 'mineral water', 'bug spray', '', '', '', '', '', '', '', '', '', '', '', '', '', '', '', '', '', '', 'avocado', 'muffins', '', '', '', '', '', '', '', '', '', '', '', '', '', '', '', '', '', '', 'burgers', 'black tea', 'green tea', '', '', '', '', '', '', '', '', '', '', '', '', '', '', '', '', '', 'spaghetti', 'chocolate', 'brownies', 'white wine', 'green tea', '', '', '', '', '', '', '', '', '', '', '', '', '', '', '', 'fresh tuna', 'mineral water', 'eggs', '', '', '', '', '', '', '', '', '', '', '', '', '', '', '', '', '', 'spaghetti', 'muffins', '', '', '', '', '', '', '', '', '', '', '', '', '', '', '', '', '', '', 'spaghetti', 'chocolate', '', '', '', '', '', '', '', '', '', '', '', '', '', '', '', '', '', '', 'french fries', 'escalope', 'champagne', '', '', '', '', '', '', '', '', '', '', '', '', '', '', '', '', '', 'tomato sauce', 'light mayo', '', '', '', '', '', '', '', '', '', '', '', '', '', '', '', '', '', '', 'turkey', 'fresh tuna', 'frozen vegetables', 'tomatoes', 'ground beef', 'spaghetti', 'mineral water', 'chocolate', 'soup', 'milk', 'olive oil', '', '', '', '', '', '', '', '', '', 'eggs', 'cookies', '', '', '', '', '', '', '', '', '', '', '', '', '', '', '', '', '', '', 'soup', 'chicken', 'gums', 'soda', 'body spray', 'energy drink', 'green tea', '', '', '', '', '', '', '', '', '', '', '', '', '', 'turkey', 'frozen vegetables', 'mineral water', 'cider', 'cooking oil', 'green tea', '', '', '', '', '', '', '', '', '', '', '', '', '', '', 'spaghetti', '', '', '', '', '', '', '', '', '', '', '', '', '', '', '', '', '', '', '', 'clothes accessories', '', '', '', '', '', '', '', '', '', '', '', '', '', '', '', '', '', '', '', 'energy drink', '', '', '', '', '', '', '', '', '', '', '', '', '', '', '', '', '', '', '', 'soup', 'bug spray', 'shallot', 'protein bar', 'green tea', '', '', '', '', '', '', '', '', '', '', '', '', '', '', '', 'turkey', 'eggs', '', '', '', '', '', '', '', '', '', '', '', '', '', '', '', '', '', '', 'french fries', '', '', '', '', '', '', '', '', '', '', '', '', '', '', '', '', '', '', '', 'chocolate', 'milk', '', '', '', '', '', '', '', '', '', '', '', '', '', '', '', '', '', '', 'herb & pepper', 'whole wheat pasta', 'ground beef', 'mineral water', 'avocado', 'cider', 'whole wheat rice', '', '', '', '', '', '', '', '', '', '', '', '', '', 'cookies', '', '', '', '', '', '', '', '', '', '', '', '', '', '', '', '', '', '', '', 'shrimp', 'pasta', '', '', '', '', '', '', '', '', '', '', '', '', '', '', '', '', '', '', 'grated cheese', 'herb & pepper', 'tomatoes', 'tomato sauce', 'corn', '', '', '', '', '', '', '', '', '', '', '', '', '', '', '', 'burgers', 'escalope', 'shallot', '', '', '', '', '', '', '', '', '', '', '', '', '', '', '', '', '', 'cookies', '', '', '', '', '', '', '', '', '', '', '', '', '', '', '', '', '', '', '', 'yogurt cake', '', '', '', '', '', '', '', '', '', '', '', '', '', '', '', '', '', '', '', 'soup', 'eggs', '', '', '', '', '', '', '', '', '', '', '', '', '', '', '', '', '', '', 'cookies', '', '', '', '', '', '', '', '', '', '', '', '', '', '', '', '', '', '', '', 'mineral water', 'chocolate', 'low fat yogurt', '', '', '', '', '', '', '', '', '', '', '', '', '', '', '', '', '', 'eggs', 'strawberries', '', '', '', '', '', '', '', '', '', '', '', '', '', '', '', '', '', '', 'grated cheese', 'ground beef', 'spaghetti', 'mineral water', 'white wine', '', '', '', '', '', '', '', '', '', '', '', '', '', '', '', 'mint', '', '', '', '', '', '', '', '', '', '', '', '', '', '', '', '', '', '', '', 'eggs', 'cake', 'french fries', '', '', '', '', '', '', '', '', '', '', '', '', '', '', '', '', '', 'burgers', 'spaghetti', 'milk', 'french fries', 'green tea', '', '', '', '', '', '', '', '', '', '', '', '', '', '', '', 'mineral water', 'energy bar', 'butter', 'french fries', '', '', '', '', '', '', '', '', '', '', '', '', '', '', '', '', 'burgers', 'grated cheese', 'herb & pepper', 'mineral water', 'eggs', 'cooking oil', '', '', '', '', '', '', '', '', '', '', '', '', '', '', 'energy bar', '', '', '', '', '', '', '', '', '', '', '', '', '', '', '', '', '', '', '', 'energy bar', 'energy drink', '', '', '', '', '', '', '', '', '', '', '', '', '', '', '', '', '', '', 'chocolate', 'frozen smoothie', '', '', '', '', '', '', '', '', '', '', '', '', '', '', '', '', '', '', 'low fat yogurt', '', '', '', '', '', '', '', '', '', '', '', '', '', '', '', '', '', '', '', 'asparagus', 'salad', '', '', '', '', '', '', '', '', '', '', '', '', '', '', '', '', '', '', 'burgers', 'french fries', 'low fat yogurt', 'green tea', '', '', '', '', '', '', '', '', '', '', '', '', '', '', '', '', 'low fat yogurt', '', '', '', '', '', '', '', '', '', '', '', '', '', '', '', '', '', '', '', 'burgers', 'herb & pepper', 'shrimp', 'pasta', 'spaghetti', 'mineral water', 'meatballs', 'olive oil', 'energy bar', 'french wine', 'eggs', 'salt', '', '', '', '', '', '', '', '', 'champagne', 'low fat yogurt', '', '', '', '', '', '', '', '', '', '', '', '', '', '', '', '', '', '', 'champagne', '', '', '', '', '', '', '', '', '', '', '', '', '', '', '', '', '', '', '', 'burgers', 'almonds', 'eggs', 'french fries', 'cookies', 'green tea', '', '', '', '', '', '', '', '', '', '', '', '', '', '', 'ham', 'soup', 'escalope', 'body spray', '', '', '', '', '', '', '', '', '', '', '', '', '', '', '', '', 'turkey', 'ham', 'frozen vegetables', 'pepper', 'oil', 'extra dark chocolate', 'tea', 'magazines', '', '', '', '', '', '', '', '', '', '', '', '', 'muffins', 'eggs', 'cookies', '', '', '', '', '', '', '', '', '', '', '', '', '', '', '', '', '', 'cookies', '', '', '', '', '', '', '', '', '', '', '', '', '', '', '', '', '', '', '', 'frozen vegetables', 'whole wheat pasta', 'ground beef', 'spaghetti', 'chocolate', 'green tea', '', '', '', '', '', '', '', '', '', '', '', '', '', '', 'mineral water', 'barbecue sauce', 'chocolate', '', '', '', '', '', '', '', '', '', '', '', '', '', '', '', '', '', 'burgers', 'herb & pepper', 'energy bar', 'almonds', 'eggs', 'corn', 'mayonnaise', 'zucchini', '', '', '', '', '', '', '', '', '', '', '', '', 'turkey', 'burgers', 'ground beef', 'chocolate', 'soup', 'almonds', 'eggs', 'hot dogs', 'cottage cheese', '', '', '', '', '', '', '', '', '', '', '', 'ham', 'spaghetti', 'chocolate', 'eggs', '', '', '', '', '', '', '', '', '', '', '', '', '', '', '', '', 'ground beef', 'energy bar', 'pet food', 'carrots', 'protein bar', '', '', '', '', '', '', '', '', '', '', '', '', '', '', '', 'ground beef', 'tomato sauce', 'spaghetti', 'mineral water', 'almonds', 'eggs', '', '', '', '', '', '', '', '', '', '', '', '', '', '', 'mineral water', 'olive oil', 'gums', 'cooking oil', '', '', '', '', '', '', '', '', '', '', '', '', '', '', '', '', 'shrimp', 'pasta', 'mineral water', 'soup', 'avocado', 'milk', 'olive oil', 'green grapes', 'eggs', 'bug spray', '', '', '', '', '', '', '', '', '', '', 'shrimp', 'pasta', 'soup', 'cake', 'cooking oil', 'chicken', 'light mayo', 'low fat yogurt', '', '', '', '', '', '', '', '', '', '', '', '', 'spaghetti', 'mineral water', 'chocolate', 'french fries', 'champagne', 'escalope', 'mushroom cream sauce', 'fresh bread', '', '', '', '', '', '', '', '', '', '', '', '', 'shrimp', 'pasta', 'mineral water', 'eggs', '', '', '', '', '', '', '', '', '', '', '', '', '', '', '', '', 'burgers', 'oil', 'tomato juice', 'fresh bread', '', '', '', '', '', '', '', '', '', '', '', '', '', '', '', '', 'french wine', 'eggs', 'chocolate', 'low fat yogurt', '', '', '', '', '', '', '', '', '', '', '', '', '', '', '', '', 'chicken', 'eggs', 'french fries', 'pancakes', '', '', '', '', '', '', '', '', '', '', '', '', '', '', '', '', 'turkey', 'herb & pepper', 'salmon', 'white wine', 'candy bars', '', '', '', '', '', '', '', '', '', '', '', '', '', '', '', 'grated cheese', 'spaghetti', 'olive oil', 'eggs', 'french fries', 'green tea', '', '', '', '', '', '', '', '', '', '', '', '', '', '', 'mineral water', 'energy bar', '', '', '', '', '', '', '', '', '', '', '', '', '', '', '', '', '', '', 'eggs', 'french fries', '', '', '', '', '', '', '', '', '', '', '', '', '', '', '', '', '', '', 'burgers', 'tomatoes', 'mineral water', 'soup', 'milk', 'almonds', 'eggs', 'chocolate', 'tomato juice', '', '', '', '', '', '', '', '', '', '', '', 'muffins', '', '', '', '', '', '', '', '', '', '', '', '', '', '', '', '', '', '', '', 'pasta', '', '', '', '', '', '', '', '', '', '', '', '', '', '', '', '', '', '', '', 'tomatoes', 'spaghetti', 'frozen smoothie', '', '', '', '', '', '', '', '', '', '', '', '', '', '', '', '', '', 'ground beef', 'spaghetti', 'milk', '', '', '', '', '', '', '', '', '', '', '', '', '', '', '', '', '', 'french fries', '', '', '', '', '', '', '', '', '', '', '', '', '', '', '', '', '', '', '', 'chocolate', 'milk', '', '', '', '', '', '', '', '', '', '', '', '', '', '', '', '', '', '', 'burgers', 'shrimp', 'pasta', 'frozen vegetables', 'spaghetti', 'mineral water', 'milk', 'eggs', 'chocolate', 'french fries', 'pancakes', 'low fat yogurt', '', '', '', '', '', '', '', '', 'ground beef', 'mineral water', 'antioxydant juice', 'protein bar', '', '', '', '', '', '', '', '', '', '', '', '', '', '', '', '', 'grated cheese', 'whole wheat pasta', 'ground beef', 'spaghetti', 'cake', 'energy drink', '', '', '', '', '', '', '', '', '', '', '', '', '', '', 'grated cheese', '', '', '', '', '', '', '', '', '', '', '', '', '', '', '', '', '', '', '', 'pancakes', '', '', '', '', '', '', '', '', '', '', '', '', '', '', '', '', '', '', '', 'frozen smoothie', '', '', '', '', '', '', '', '', '', '', '', '', '', '', '', '', '', '', '', 'carrots', 'green tea', '', '', '', '', '', '', '', '', '', '', '', '', '', '', '', '', '', '', 'chocolate', '', '', '', '', '', '', '', '', '', '', '', '', '', '', '', '', '', '', '', 'turkey', 'burgers', 'chocolate', 'olive oil', 'eggs', 'cooking oil', 'corn', '', '', '', '', '', '', '', '', '', '', '', '', '', 'frozen vegetables', 'tomatoes', 'pepper', 'spaghetti', 'mineral water', 'pancakes', 'chicken', 'chili', 'tea', 'french fries', 'tomato juice', 'fresh bread', '', '', '', '', '', '', '', '', 'cookies', '', '', '', '', '', '', '', '', '', '', '', '', '', '', '', '', '', '', '', 'ground beef', '', '', '', '', '', '', '', '', '', '', '', '', '', '', '', '', '', '', '', 'turkey', 'eggs', 'chocolate', 'frozen smoothie', 'tomato juice', '', '', '', '', '', '', '', '', '', '', '', '', '', '', '', 'frozen vegetables', 'cooking oil', 'mashed potato', '', '', '', '', '', '', '', '', '', '', '', '', '', '', '', '', '', 'frozen vegetables', 'ground beef', 'tomato sauce', 'mineral water', 'meatballs', 'olive oil', 'light cream', 'tomato juice', '', '', '', '', '', '', '', '', '', '', '', '', 'red wine', 'spaghetti', 'mineral water', 'soup', 'milk', 'eggs', 'cake', 'gums', 'cooking oil', 'chocolate', 'frozen smoothie', '', '', '', '', '', '', '', '', '']\n"
          ],
          "name": "stdout"
        }
      ]
    },
    {
      "cell_type": "code",
      "metadata": {
        "colab": {
          "base_uri": "https://localhost:8080/"
        },
        "id": "kfip8gl-lN8P",
        "outputId": "1e2f5a9b-5cb6-4e5d-cd4b-6de776b195ce"
      },
      "source": [
        "## Unique frequent items in dataset\n",
        "uniqueItems = items.distinct()\n",
        "\n",
        "# Add 1 as Tuple\n",
        "supportRdd = items.map(lambda item: (item , 1))\n",
        "\n",
        "# Method for sum in reduceByKey method\n",
        "def sumOparator(x,y):\n",
        "    return x+y\n",
        "\n",
        "# Sum of values by key\n",
        "supportRdd = supportRdd.reduceByKey(sumOparator)\n",
        "\n",
        "print(supportRdd.collect())\n",
        "\n",
        "\n",
        "# First support values\n",
        "supports = supportRdd.map(lambda item: item[1]) # Return only support values\n"
      ],
      "execution_count": null,
      "outputs": [
        {
          "output_type": "stream",
          "text": [
            "[('shrimp', 10), ('green grapes', 2), ('whole weat flour', 1), ('cottage cheese', 3), ('green tea', 17), ('honey', 5), ('salad', 2), ('antioxydant juice', 2), ('frozen smoothie', 8), ('olive oil', 8), ('burgers', 16), ('', 2272), ('turkey', 13), ('milk', 13), ('whole wheat rice', 3), ('light cream', 3), ('shallot', 3), ('spaghetti', 30), ('cookies', 11), ('cooking oil', 9), ('chocolate', 24), ('extra dark chocolate', 2), ('red wine', 3), ('pasta', 9), ('sparkling water', 3), ('ham', 4), ('toothpaste', 1), ('parmesan cheese', 1), ('herb & pepper', 7), ('magazines', 2), ('strawberries', 2), ('strong cheese', 1), ('pickles', 2), ('brownies', 2), ('cereals', 1), ('light mayo', 2), ('soda', 1), ('cider', 2), ('yogurt cake', 1), ('butter', 1), ('french wine', 2), ('salt', 1), ('barbecue sauce', 1), ('mayonnaise', 1), ('mushroom cream sauce', 1), ('almonds', 6), ('avocado', 9), ('vegetables mix', 1), ('yams', 2), ('energy drink', 5), ('tomato juice', 6), ('low fat yogurt', 11), ('mineral water', 38), ('salmon', 6), ('spinach', 1), ('meatballs', 5), ('eggs', 34), ('chutney', 1), ('energy bar', 10), ('whole wheat pasta', 4), ('french fries', 21), ('soup', 14), ('frozen vegetables', 12), ('pet food', 2), ('champagne', 6), ('chicken', 8), ('oil', 3), ('fresh tuna', 4), ('tomatoes', 6), ('black tea', 3), ('protein bar', 4), ('pepper', 3), ('shampoo', 1), ('rice', 1), ('body spray', 4), ('pancakes', 6), ('grated cheese', 7), ('white wine', 4), ('fresh bread', 4), ('ground beef', 14), ('escalope', 8), ('tomato sauce', 5), ('cake', 5), ('hot dogs', 3), ('clothes accessories', 2), ('bug spray', 3), ('muffins', 4), ('gums', 3), ('corn', 3), ('mint', 1), ('asparagus', 1), ('tea', 2), ('zucchini', 1), ('carrots', 2), ('candy bars', 1), ('chili', 1), ('mashed potato', 1)]\n"
          ],
          "name": "stdout"
        }
      ]
    },
    {
      "cell_type": "code",
      "metadata": {
        "colab": {
          "base_uri": "https://localhost:8080/"
        },
        "id": "uSAXjku_lvti",
        "outputId": "91a537e7-6e2c-4ff9-87a2-a3f7081956ce"
      },
      "source": [
        "# Define minimum support value \n",
        "minSupport = supports.min()\n",
        "\n",
        "# If mininmum support is 1 then replace it with 2 \n",
        "minSupport = 2 if minSupport == 1 else minSupport\n",
        "\n",
        "## Filter first supportRdd with minimum support \n",
        "supportRdd = supportRdd.filter(lambda item: item[1] >= minSupport )\n",
        "\n",
        "## Craete base RDD with will be updated every iteration\n",
        "baseRdd = supportRdd.map(lambda item: ([item[0]] , item[1])) \n",
        "print('1 . Table has crated...') \n",
        "\n",
        "supportRdd = supportRdd.map(lambda item: item[0])\n",
        "supportRddCart = supportRdd"
      ],
      "execution_count": null,
      "outputs": [
        {
          "output_type": "stream",
          "text": [
            "1 . Table has crated...\n"
          ],
          "name": "stdout"
        }
      ]
    },
    {
      "cell_type": "code",
      "metadata": {
        "id": "RGtngnElmbTa"
      },
      "source": [
        "def removeReplica(record):\n",
        "\n",
        "    if(isinstance(record[0], tuple)):\n",
        "        x1 = record[0]\n",
        "        x2 = record[1]\n",
        "    else:\n",
        "        x1 = [record[0]]\n",
        "        x2 = record[1]\n",
        "\n",
        "    if(any(x == x2 for x in x1) == False):\n",
        "        a = list(x1)\n",
        "        a.append(x2)\n",
        "        a.sort()\n",
        "        result = tuple(a)\n",
        "        return result \n",
        "    else:\n",
        "        return x1"
      ],
      "execution_count": null,
      "outputs": []
    },
    {
      "cell_type": "code",
      "metadata": {
        "id": "5iYPqYAemgWq"
      },
      "source": [
        "c = 2 # Combination length \n",
        "\n",
        "while(supportRdd.isEmpty() == False):\n",
        "\n",
        "    combined = supportRdd.cartesian(uniqueItems)\n",
        "    combined = combined.map(lambda item: removeReplica(item))\n",
        "  \n",
        "    combined = combined.filter(lambda item: len(item) == c)\n",
        "    combined = combined.distinct()\n",
        "\n",
        "    \n",
        "    combined_2 = combined.cartesian(lblitems)\n",
        "    combined_2 = combined_2.filter(lambda item: all(x in item[1] for x in item[0]))\n",
        "    \n",
        "    combined_2 = combined_2.map(lambda item: item[0])\n",
        "    combined_2 = combined_2.map(lambda item: (item , 1))\n",
        "    combined_2 = combined_2.reduceByKey(sumOparator)\n",
        "    combined_2 = combined_2.filter(lambda item: item[1] >= minSupport)\n",
        "\n",
        "    baseRdd = baseRdd.union(combined_2)\n",
        "    \n",
        "    combined_2 = combined_2.map(lambda item: item[0])\n",
        "    supportRdd = combined_2\n",
        "    print(c ,'. Table has crated... ')\n",
        "    c = c+1 "
      ],
      "execution_count": null,
      "outputs": []
    },
    {
      "cell_type": "code",
      "metadata": {
        "colab": {
          "background_save": true
        },
        "id": "4R_Xth8amidI",
        "outputId": "d16a7faf-152b-40bb-bd0b-0d64e4d93ea4"
      },
      "source": [
        "class Filter():\n",
        "\n",
        "    def __init__(self):\n",
        "        \n",
        "        self.stages = 1\n",
        "\n",
        "\n",
        "    def filterForConf(self, item , total):\n",
        "        \n",
        "        if(len(item[0][0]) > len(item[1][0])  ):\n",
        "            if(self.checkItemSets(item[0][0] , item[1][0]) == False):\n",
        "                pass\n",
        "            else:\n",
        "                return (item)       \n",
        "        else:\n",
        "            pass  \n",
        "        self.stages = self.stages + 1\n",
        "\n",
        "    # Check Items sets includes at least one comman item // Example command: # any(l == k for k in z for l in x )\n",
        "    def checkItemSets(self, item_1 , item_2):\n",
        "\n",
        "        if(len(item_1) > len(item_2)):\n",
        "            return all(any(k == l for k in item_1 ) for l in item_2)\n",
        "        else:\n",
        "            return all(any(k == l for k in item_2 ) for l in item_1)\n",
        "\n",
        "\n",
        "    def calculateConfidence(self, item):\n",
        "\n",
        "        # Parent item list\n",
        "        parent = set(item[0][0])\n",
        "        \n",
        "        # Child item list\n",
        "        if(isinstance(item[1][0] , str)):\n",
        "            child  = set([item[1][0]])\n",
        "        else:\n",
        "            child  = set(item[1][0])\n",
        "        # Parent and Child support values\n",
        "        parentSupport = item[0][1]\n",
        "        childSupport = item[1][1]\n",
        "        # Finds the item set confidence is going to be found\n",
        "\n",
        "        support = (parentSupport / childSupport)*100\n",
        "\n",
        "        return list([ list(child) ,  list(parent.difference(child)) , support ])\n",
        "\n",
        "        \n",
        "# Example ((('x10', 'x3', 'x6', 'x7', 'x9'), 1), (('x10', 'x3', 'x7'), 1))\n",
        "calcuItems = baseRdd.cartesian(baseRdd)\n",
        "\n",
        "# Create Filter Object\n",
        "ff = Filter()\n",
        "\n",
        "#deneme = calcuItems.map(lambda item: lens(item)) \n",
        "total = calcuItems.count()\n",
        "\n",
        "print('# : Aggregated support values preparing for the confidence calculatations')\n",
        "baseRddConfidence = calcuItems.filter(lambda item: ff.filterForConf(item , total))\n",
        "print('# : Aggregated support values are ready !')\n",
        "baseRddConfidence = baseRddConfidence.map(lambda item: ff.calculateConfidence(item))\n",
        "\n",
        "  \n",
        "print(baseRddConfidence.collect())"
      ],
      "execution_count": null,
      "outputs": [
        {
          "output_type": "error",
          "ename": "Py4JJavaError",
          "evalue": "ignored",
          "traceback": [
            "\u001b[0;31m---------------------------------------------------------------------------\u001b[0m",
            "\u001b[0;31mPy4JJavaError\u001b[0m                             Traceback (most recent call last)",
            "\u001b[0;32m<ipython-input-23-2589a127a9e3>\u001b[0m in \u001b[0;36m<module>\u001b[0;34m()\u001b[0m\n\u001b[1;32m     53\u001b[0m \u001b[0;34m\u001b[0m\u001b[0m\n\u001b[1;32m     54\u001b[0m \u001b[0;31m#deneme = calcuItems.map(lambda item: lens(item))\u001b[0m\u001b[0;34m\u001b[0m\u001b[0;34m\u001b[0m\u001b[0;34m\u001b[0m\u001b[0m\n\u001b[0;32m---> 55\u001b[0;31m \u001b[0mtotal\u001b[0m \u001b[0;34m=\u001b[0m \u001b[0mcalcuItems\u001b[0m\u001b[0;34m.\u001b[0m\u001b[0mcount\u001b[0m\u001b[0;34m(\u001b[0m\u001b[0;34m)\u001b[0m\u001b[0;34m\u001b[0m\u001b[0;34m\u001b[0m\u001b[0m\n\u001b[0m\u001b[1;32m     56\u001b[0m \u001b[0;34m\u001b[0m\u001b[0m\n\u001b[1;32m     57\u001b[0m \u001b[0mprint\u001b[0m\u001b[0;34m(\u001b[0m\u001b[0;34m'# : Aggregated support values preparing for the confidence calculatations'\u001b[0m\u001b[0;34m)\u001b[0m\u001b[0;34m\u001b[0m\u001b[0;34m\u001b[0m\u001b[0m\n",
            "\u001b[0;32m/usr/local/lib/python3.7/dist-packages/pyspark/rdd.py\u001b[0m in \u001b[0;36mcount\u001b[0;34m(self)\u001b[0m\n\u001b[1;32m   1139\u001b[0m         \u001b[0;36m3\u001b[0m\u001b[0;34m\u001b[0m\u001b[0;34m\u001b[0m\u001b[0m\n\u001b[1;32m   1140\u001b[0m         \"\"\"\n\u001b[0;32m-> 1141\u001b[0;31m         \u001b[0;32mreturn\u001b[0m \u001b[0mself\u001b[0m\u001b[0;34m.\u001b[0m\u001b[0mmapPartitions\u001b[0m\u001b[0;34m(\u001b[0m\u001b[0;32mlambda\u001b[0m \u001b[0mi\u001b[0m\u001b[0;34m:\u001b[0m \u001b[0;34m[\u001b[0m\u001b[0msum\u001b[0m\u001b[0;34m(\u001b[0m\u001b[0;36m1\u001b[0m \u001b[0;32mfor\u001b[0m \u001b[0m_\u001b[0m \u001b[0;32min\u001b[0m \u001b[0mi\u001b[0m\u001b[0;34m)\u001b[0m\u001b[0;34m]\u001b[0m\u001b[0;34m)\u001b[0m\u001b[0;34m.\u001b[0m\u001b[0msum\u001b[0m\u001b[0;34m(\u001b[0m\u001b[0;34m)\u001b[0m\u001b[0;34m\u001b[0m\u001b[0;34m\u001b[0m\u001b[0m\n\u001b[0m\u001b[1;32m   1142\u001b[0m \u001b[0;34m\u001b[0m\u001b[0m\n\u001b[1;32m   1143\u001b[0m     \u001b[0;32mdef\u001b[0m \u001b[0mstats\u001b[0m\u001b[0;34m(\u001b[0m\u001b[0mself\u001b[0m\u001b[0;34m)\u001b[0m\u001b[0;34m:\u001b[0m\u001b[0;34m\u001b[0m\u001b[0;34m\u001b[0m\u001b[0m\n",
            "\u001b[0;32m/usr/local/lib/python3.7/dist-packages/pyspark/rdd.py\u001b[0m in \u001b[0;36msum\u001b[0;34m(self)\u001b[0m\n\u001b[1;32m   1130\u001b[0m         \u001b[0;36m6.0\u001b[0m\u001b[0;34m\u001b[0m\u001b[0;34m\u001b[0m\u001b[0m\n\u001b[1;32m   1131\u001b[0m         \"\"\"\n\u001b[0;32m-> 1132\u001b[0;31m         \u001b[0;32mreturn\u001b[0m \u001b[0mself\u001b[0m\u001b[0;34m.\u001b[0m\u001b[0mmapPartitions\u001b[0m\u001b[0;34m(\u001b[0m\u001b[0;32mlambda\u001b[0m \u001b[0mx\u001b[0m\u001b[0;34m:\u001b[0m \u001b[0;34m[\u001b[0m\u001b[0msum\u001b[0m\u001b[0;34m(\u001b[0m\u001b[0mx\u001b[0m\u001b[0;34m)\u001b[0m\u001b[0;34m]\u001b[0m\u001b[0;34m)\u001b[0m\u001b[0;34m.\u001b[0m\u001b[0mfold\u001b[0m\u001b[0;34m(\u001b[0m\u001b[0;36m0\u001b[0m\u001b[0;34m,\u001b[0m \u001b[0moperator\u001b[0m\u001b[0;34m.\u001b[0m\u001b[0madd\u001b[0m\u001b[0;34m)\u001b[0m\u001b[0;34m\u001b[0m\u001b[0;34m\u001b[0m\u001b[0m\n\u001b[0m\u001b[1;32m   1133\u001b[0m \u001b[0;34m\u001b[0m\u001b[0m\n\u001b[1;32m   1134\u001b[0m     \u001b[0;32mdef\u001b[0m \u001b[0mcount\u001b[0m\u001b[0;34m(\u001b[0m\u001b[0mself\u001b[0m\u001b[0;34m)\u001b[0m\u001b[0;34m:\u001b[0m\u001b[0;34m\u001b[0m\u001b[0;34m\u001b[0m\u001b[0m\n",
            "\u001b[0;32m/usr/local/lib/python3.7/dist-packages/pyspark/rdd.py\u001b[0m in \u001b[0;36mfold\u001b[0;34m(self, zeroValue, op)\u001b[0m\n\u001b[1;32m   1001\u001b[0m         \u001b[0;31m# zeroValue provided to each partition is unique from the one provided\u001b[0m\u001b[0;34m\u001b[0m\u001b[0;34m\u001b[0m\u001b[0;34m\u001b[0m\u001b[0m\n\u001b[1;32m   1002\u001b[0m         \u001b[0;31m# to the final reduce call\u001b[0m\u001b[0;34m\u001b[0m\u001b[0;34m\u001b[0m\u001b[0;34m\u001b[0m\u001b[0m\n\u001b[0;32m-> 1003\u001b[0;31m         \u001b[0mvals\u001b[0m \u001b[0;34m=\u001b[0m \u001b[0mself\u001b[0m\u001b[0;34m.\u001b[0m\u001b[0mmapPartitions\u001b[0m\u001b[0;34m(\u001b[0m\u001b[0mfunc\u001b[0m\u001b[0;34m)\u001b[0m\u001b[0;34m.\u001b[0m\u001b[0mcollect\u001b[0m\u001b[0;34m(\u001b[0m\u001b[0;34m)\u001b[0m\u001b[0;34m\u001b[0m\u001b[0;34m\u001b[0m\u001b[0m\n\u001b[0m\u001b[1;32m   1004\u001b[0m         \u001b[0;32mreturn\u001b[0m \u001b[0mreduce\u001b[0m\u001b[0;34m(\u001b[0m\u001b[0mop\u001b[0m\u001b[0;34m,\u001b[0m \u001b[0mvals\u001b[0m\u001b[0;34m,\u001b[0m \u001b[0mzeroValue\u001b[0m\u001b[0;34m)\u001b[0m\u001b[0;34m\u001b[0m\u001b[0;34m\u001b[0m\u001b[0m\n\u001b[1;32m   1005\u001b[0m \u001b[0;34m\u001b[0m\u001b[0m\n",
            "\u001b[0;32m/usr/local/lib/python3.7/dist-packages/pyspark/rdd.py\u001b[0m in \u001b[0;36mcollect\u001b[0;34m(self)\u001b[0m\n\u001b[1;32m    887\u001b[0m         \"\"\"\n\u001b[1;32m    888\u001b[0m         \u001b[0;32mwith\u001b[0m \u001b[0mSCCallSiteSync\u001b[0m\u001b[0;34m(\u001b[0m\u001b[0mself\u001b[0m\u001b[0;34m.\u001b[0m\u001b[0mcontext\u001b[0m\u001b[0;34m)\u001b[0m \u001b[0;32mas\u001b[0m \u001b[0mcss\u001b[0m\u001b[0;34m:\u001b[0m\u001b[0;34m\u001b[0m\u001b[0;34m\u001b[0m\u001b[0m\n\u001b[0;32m--> 889\u001b[0;31m             \u001b[0msock_info\u001b[0m \u001b[0;34m=\u001b[0m \u001b[0mself\u001b[0m\u001b[0;34m.\u001b[0m\u001b[0mctx\u001b[0m\u001b[0;34m.\u001b[0m\u001b[0m_jvm\u001b[0m\u001b[0;34m.\u001b[0m\u001b[0mPythonRDD\u001b[0m\u001b[0;34m.\u001b[0m\u001b[0mcollectAndServe\u001b[0m\u001b[0;34m(\u001b[0m\u001b[0mself\u001b[0m\u001b[0;34m.\u001b[0m\u001b[0m_jrdd\u001b[0m\u001b[0;34m.\u001b[0m\u001b[0mrdd\u001b[0m\u001b[0;34m(\u001b[0m\u001b[0;34m)\u001b[0m\u001b[0;34m)\u001b[0m\u001b[0;34m\u001b[0m\u001b[0;34m\u001b[0m\u001b[0m\n\u001b[0m\u001b[1;32m    890\u001b[0m         \u001b[0;32mreturn\u001b[0m \u001b[0mlist\u001b[0m\u001b[0;34m(\u001b[0m\u001b[0m_load_from_socket\u001b[0m\u001b[0;34m(\u001b[0m\u001b[0msock_info\u001b[0m\u001b[0;34m,\u001b[0m \u001b[0mself\u001b[0m\u001b[0;34m.\u001b[0m\u001b[0m_jrdd_deserializer\u001b[0m\u001b[0;34m)\u001b[0m\u001b[0;34m)\u001b[0m\u001b[0;34m\u001b[0m\u001b[0;34m\u001b[0m\u001b[0m\n\u001b[1;32m    891\u001b[0m \u001b[0;34m\u001b[0m\u001b[0m\n",
            "\u001b[0;32m/usr/local/lib/python3.7/dist-packages/py4j/java_gateway.py\u001b[0m in \u001b[0;36m__call__\u001b[0;34m(self, *args)\u001b[0m\n\u001b[1;32m   1303\u001b[0m         \u001b[0manswer\u001b[0m \u001b[0;34m=\u001b[0m \u001b[0mself\u001b[0m\u001b[0;34m.\u001b[0m\u001b[0mgateway_client\u001b[0m\u001b[0;34m.\u001b[0m\u001b[0msend_command\u001b[0m\u001b[0;34m(\u001b[0m\u001b[0mcommand\u001b[0m\u001b[0;34m)\u001b[0m\u001b[0;34m\u001b[0m\u001b[0;34m\u001b[0m\u001b[0m\n\u001b[1;32m   1304\u001b[0m         return_value = get_return_value(\n\u001b[0;32m-> 1305\u001b[0;31m             answer, self.gateway_client, self.target_id, self.name)\n\u001b[0m\u001b[1;32m   1306\u001b[0m \u001b[0;34m\u001b[0m\u001b[0m\n\u001b[1;32m   1307\u001b[0m         \u001b[0;32mfor\u001b[0m \u001b[0mtemp_arg\u001b[0m \u001b[0;32min\u001b[0m \u001b[0mtemp_args\u001b[0m\u001b[0;34m:\u001b[0m\u001b[0;34m\u001b[0m\u001b[0;34m\u001b[0m\u001b[0m\n",
            "\u001b[0;32m/usr/local/lib/python3.7/dist-packages/py4j/protocol.py\u001b[0m in \u001b[0;36mget_return_value\u001b[0;34m(answer, gateway_client, target_id, name)\u001b[0m\n\u001b[1;32m    326\u001b[0m                 raise Py4JJavaError(\n\u001b[1;32m    327\u001b[0m                     \u001b[0;34m\"An error occurred while calling {0}{1}{2}.\\n\"\u001b[0m\u001b[0;34m.\u001b[0m\u001b[0;34m\u001b[0m\u001b[0;34m\u001b[0m\u001b[0m\n\u001b[0;32m--> 328\u001b[0;31m                     format(target_id, \".\", name), value)\n\u001b[0m\u001b[1;32m    329\u001b[0m             \u001b[0;32melse\u001b[0m\u001b[0;34m:\u001b[0m\u001b[0;34m\u001b[0m\u001b[0;34m\u001b[0m\u001b[0m\n\u001b[1;32m    330\u001b[0m                 raise Py4JError(\n",
            "\u001b[0;31mPy4JJavaError\u001b[0m: An error occurred while calling z:org.apache.spark.api.python.PythonRDD.collectAndServe.\n: java.lang.OutOfMemoryError: Java heap space\n\tat org.apache.spark.rdd.CartesianRDD.getPartitions(CartesianRDD.scala:60)\n\tat org.apache.spark.rdd.RDD.$anonfun$partitions$2(RDD.scala:276)\n\tat org.apache.spark.rdd.RDD$$Lambda$939/0x000000084076e440.apply(Unknown Source)\n\tat scala.Option.getOrElse(Option.scala:189)\n\tat org.apache.spark.rdd.RDD.partitions(RDD.scala:272)\n\tat org.apache.spark.api.python.PythonRDD.getPartitions(PythonRDD.scala:55)\n\tat org.apache.spark.rdd.RDD.$anonfun$partitions$2(RDD.scala:276)\n\tat org.apache.spark.rdd.RDD$$Lambda$939/0x000000084076e440.apply(Unknown Source)\n\tat scala.Option.getOrElse(Option.scala:189)\n\tat org.apache.spark.rdd.RDD.partitions(RDD.scala:272)\n\tat org.apache.spark.SparkContext.runJob(SparkContext.scala:2179)\n\tat org.apache.spark.rdd.RDD.$anonfun$collect$1(RDD.scala:1004)\n\tat org.apache.spark.rdd.RDD$$Lambda$935/0x0000000840769c40.apply(Unknown Source)\n\tat org.apache.spark.rdd.RDDOperationScope$.withScope(RDDOperationScope.scala:151)\n\tat org.apache.spark.rdd.RDDOperationScope$.withScope(RDDOperationScope.scala:112)\n\tat org.apache.spark.rdd.RDD.withScope(RDD.scala:388)\n\tat org.apache.spark.rdd.RDD.collect(RDD.scala:1003)\n\tat org.apache.spark.api.python.PythonRDD$.collectAndServe(PythonRDD.scala:168)\n\tat org.apache.spark.api.python.PythonRDD.collectAndServe(PythonRDD.scala)\n\tat java.base/jdk.internal.reflect.NativeMethodAccessorImpl.invoke0(Native Method)\n\tat java.base/jdk.internal.reflect.NativeMethodAccessorImpl.invoke(NativeMethodAccessorImpl.java:62)\n\tat java.base/jdk.internal.reflect.DelegatingMethodAccessorImpl.invoke(DelegatingMethodAccessorImpl.java:43)\n\tat java.base/java.lang.reflect.Method.invoke(Method.java:566)\n\tat py4j.reflection.MethodInvoker.invoke(MethodInvoker.java:244)\n\tat py4j.reflection.ReflectionEngine.invoke(ReflectionEngine.java:357)\n\tat py4j.Gateway.invoke(Gateway.java:282)\n\tat py4j.commands.AbstractCommand.invokeMethod(AbstractCommand.java:132)\n\tat py4j.commands.CallCommand.execute(CallCommand.java:79)\n\tat py4j.GatewayConnection.run(GatewayConnection.java:238)\n\tat java.base/java.lang.Thread.run(Thread.java:834)\n"
          ]
        }
      ]
    },
    {
      "cell_type": "code",
      "metadata": {
        "id": "4SVSWGyiEdRj"
      },
      "source": [
        ""
      ],
      "execution_count": null,
      "outputs": []
    }
  ]
}
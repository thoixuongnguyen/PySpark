{
  "nbformat": 4,
  "nbformat_minor": 0,
  "metadata": {
    "colab": {
      "name": "LSH1.ipynb",
      "provenance": [],
      "collapsed_sections": []
    },
    "kernelspec": {
      "name": "python3",
      "display_name": "Python 3"
    },
    "language_info": {
      "name": "python"
    }
  },
  "cells": [
    {
      "cell_type": "code",
      "metadata": {
        "id": "GuIzpj7bet8t"
      },
      "source": [
        "!apt-get install openjdk-8-jdk-headless -qq > /dev/null\n",
        "!wget -q https://downloads.apache.org/spark/spark-2.4.7/spark-2.4.7-bin-hadoop2.7.tgz\n",
        "!tar xf spark-2.4.7-bin-hadoop2.7.tgz\n",
        "!pip install -q findspark\n",
        "\n",
        "!apt-get install -y openjdk-8-jdk-headless -qq > /dev/null #install openjdk\n"
      ],
      "execution_count": null,
      "outputs": []
    },
    {
      "cell_type": "code",
      "metadata": {
        "id": "KQiAsSTQgBUJ",
        "colab": {
          "base_uri": "https://localhost:8080/"
        },
        "outputId": "c19b968e-cd11-44b7-ef4b-5de5ab92ff20"
      },
      "source": [
        "import os\n",
        "os.environ[\"JAVA_HOME\"] = \"/usr/lib/jvm/java-8-openjdk-amd64\" #set environment variable\n",
        "!update-alternatives --set java /usr/lib/jvm/java-8-openjdk-amd64/jre/bin/java\n",
        "\n",
        "os.environ[\"SPARK_HOME\"] = \"/content/spark-2.4.7-bin-hadoop2.7\""
      ],
      "execution_count": null,
      "outputs": [
        {
          "output_type": "stream",
          "text": [
            "update-alternatives: using /usr/lib/jvm/java-8-openjdk-amd64/jre/bin/java to provide /usr/bin/java (java) in manual mode\n"
          ],
          "name": "stdout"
        }
      ]
    },
    {
      "cell_type": "code",
      "metadata": {
        "id": "IBnMa1BAJBSL"
      },
      "source": [
        "import re, hashlib, math, time\n",
        "from random import randint, seed\n",
        "seed(16)\n",
        "\n",
        "\n",
        "class hashFamily:\n",
        "    def __init__(self, i):\n",
        "        self.resultSize = 8 # how many bytes we want back\n",
        "        self.maxLen = 20 # how long can our i be (in decimal)\n",
        "        self.salt = str(i).zfill(self.maxLen)[-self.maxLen:]\n",
        "        self.id = i\n",
        "        \n",
        "    def get_hash_value(self, el_to_hash):\n",
        "        return int(hashlib.sha1(str(el_to_hash).encode('utf-8') + self.salt.encode('utf-8')).hexdigest()[-self.resultSize:], 16)\n",
        "    \n",
        "\n",
        "class shingler:\n",
        "    def __init__(self, k):\n",
        "        \n",
        "        if k > 0:\n",
        "            self.k = int(k)\n",
        "        else:\n",
        "            self.k = 10\n",
        "        \n",
        "    #inner class utility\n",
        "    def process_doc(self, document):\n",
        "        return re.sub(\"( )+|(\\n)+\",\" \",document).lower()\n",
        "    \n",
        "    def get_shingles(self, document):\n",
        "        shingles = set()\n",
        "        document= self.process_doc(document)\n",
        "        for i in range(0, len(document)-self.k+1 ):\n",
        "            shingles.add(document[i:i+self.k])\n",
        "        return shingles\n",
        "    \n",
        "    def get_k(self):\n",
        "        return self.k\n",
        "    \n",
        "    #return sorted hash\n",
        "    def get_hashed_shingles(self, shingles_set):\n",
        "        hash_function = hashFamily(0)\n",
        "        return sorted( {hash_function.get_hash_value(s) for s in shingles_set} )"
      ],
      "execution_count": null,
      "outputs": []
    },
    {
      "cell_type": "code",
      "metadata": {
        "colab": {
          "base_uri": "https://localhost:8080/"
        },
        "id": "NSIiQbO0a94o",
        "outputId": "43a9efb6-0802-4667-90fa-1296b22796b0"
      },
      "source": [
        "# !pip install spark\n",
        "# !pip install findspark\n",
        "\n",
        "import findspark\n",
        "findspark.init()\n",
        "\n",
        "from pyspark.sql import SparkSession\n",
        "\n",
        "file_path = \"/content/dataset_rent_rome_kijiji.tsv\"  \n",
        "spark = SparkSession.builder.getOrCreate()\n",
        "segments = spark.read.csv( path=file_path, header=True, sep='\\t' )\n",
        "\n",
        "#segments.persist() # to avoid lazy behaviour and store dataset in memory\n",
        "segments.show() # data preview"
      ],
      "execution_count": null,
      "outputs": [
        {
          "output_type": "stream",
          "text": [
            "+--------------------+--------------------+--------------------+------------------+-------------------+--------------------+\n",
            "|               Title|   Short Description|            Location|      Price (Euro)|          Timestamp|             Url Adv|\n",
            "+--------------------+--------------------+--------------------+------------------+-------------------+--------------------+\n",
            "|Studio accessoria...|Affitto studio a ...|               Roma |              450 | 12 ottobre, 11:32 |https://www.kijij...|\n",
            "|Negozio 169Mq per...|Privato affitta n...|Prenestino / Casi...|            1.700 | 12 ottobre, 08:45 |https://www.kijij...|\n",
            "|Negozio in tiburt...|Negozio c/1 roma ...|Tiburtino / Colla...|            6.000 | 17 October, 21:20 |https://www.kijij...|\n",
            "|Studio medico via...|Studio medico avv...|Trieste / Somalia...|              200 | 17 October, 20:22 |https://www.kijij...|\n",
            "|Cerco: Appartamen...|Donna lavoratrice...|               Roma |Contatta l'utente | 17 October, 19:39 |https://www.kijij...|\n",
            "|Elegante studio m...|Studio medico con...|Flaminio / Pariol...|Contatta l'utente | 17 October, 19:31 |https://www.kijij...|\n",
            "|Ufficio su strada...|A pochi metri da ...|San Giovanni / Ap...|              500 | 17 October, 19:14 |https://www.kijij...|\n",
            "|  Camera in affitto |Camera per studen...|Prenestino / Casi...|              350 | 17 October, 18:53 |https://www.kijij...|\n",
            "|Magazzino Via Giu...|Affittasi Locale ...|               Roma |            1.400 | 17 October, 18:08 |https://www.kijij...|\n",
            "|Negozio + Piazzal...|Privato AFFITTA S...|               Roma |Contatta l'utente | 17 October, 18:06 |https://www.kijij...|\n",
            "|Locale uso studio...|Affittasi N.1 loc...|Trieste / Somalia...|              580 | 17 October, 17:34 |https://www.kijij...|\n",
            "|Sala per Feste pe...|Spazio modulabile...|Tuscolano / Don B...|              400 | 17 October, 16:57 |https://www.kijij...|\n",
            "|Sala per feste a ...|Affitto locale a ...|Tuscolano / Don B...|              350 | 17 October, 16:57 |https://www.kijij...|\n",
            "|  Box insonorizzato |Box con soppalco ...|Tiburtino / Colla...|Contatta l'utente | 17 October, 16:30 |https://www.kijij...|\n",
            "|Stanze per Medici...|Affittasi 1 o 2 S...|Nomentano / Bologna |              120 | 17 October, 16:01 |https://www.kijij...|\n",
            "|Appartamento in m...|Appartamento in v...|        ~Altre zone |Contatta l'utente | 17 October, 15:50 |https://www.kijij...|\n",
            "|Location per fest...|Per una festa di ...|               Roma |Contatta l'utente | 17 October, 14:30 |https://www.kijij...|\n",
            "|Locale commercial...|Affitto locale co...|               Roma |              450 | 17 October, 14:26 |https://www.kijij...|\n",
            "|Loft arredato zon...|Appartamento nuov...|               Roma |              650 | 17 October, 14:24 |https://www.kijij...|\n",
            "|Appartamento arre...|Appartamento nuov...|               Roma |              650 | 17 October, 13:14 |https://www.kijij...|\n",
            "+--------------------+--------------------+--------------------+------------------+-------------------+--------------------+\n",
            "only showing top 20 rows\n",
            "\n"
          ],
          "name": "stdout"
        }
      ]
    },
    {
      "cell_type": "code",
      "metadata": {
        "colab": {
          "base_uri": "https://localhost:8080/"
        },
        "id": "7f4Eih_NhBGF",
        "outputId": "28ac4997-e886-4f8a-e283-0dac6ffaa74e"
      },
      "source": [
        "from pyspark.sql.functions import monotonically_increasing_id \n",
        "\n",
        "dataset = segments.select('Title','Short Description').withColumn(\"doc_id\", monotonically_increasing_id())\n",
        "dataset.show()\n",
        "dataset.persist()"
      ],
      "execution_count": null,
      "outputs": [
        {
          "output_type": "stream",
          "text": [
            "+--------------------+--------------------+------+\n",
            "|               Title|   Short Description|doc_id|\n",
            "+--------------------+--------------------+------+\n",
            "|Studio accessoria...|Affitto studio a ...|     0|\n",
            "|Negozio 169Mq per...|Privato affitta n...|     1|\n",
            "|Negozio in tiburt...|Negozio c/1 roma ...|     2|\n",
            "|Studio medico via...|Studio medico avv...|     3|\n",
            "|Cerco: Appartamen...|Donna lavoratrice...|     4|\n",
            "|Elegante studio m...|Studio medico con...|     5|\n",
            "|Ufficio su strada...|A pochi metri da ...|     6|\n",
            "|  Camera in affitto |Camera per studen...|     7|\n",
            "|Magazzino Via Giu...|Affittasi Locale ...|     8|\n",
            "|Negozio + Piazzal...|Privato AFFITTA S...|     9|\n",
            "|Locale uso studio...|Affittasi N.1 loc...|    10|\n",
            "|Sala per Feste pe...|Spazio modulabile...|    11|\n",
            "|Sala per feste a ...|Affitto locale a ...|    12|\n",
            "|  Box insonorizzato |Box con soppalco ...|    13|\n",
            "|Stanze per Medici...|Affittasi 1 o 2 S...|    14|\n",
            "|Appartamento in m...|Appartamento in v...|    15|\n",
            "|Location per fest...|Per una festa di ...|    16|\n",
            "|Locale commercial...|Affitto locale co...|    17|\n",
            "|Loft arredato zon...|Appartamento nuov...|    18|\n",
            "|Appartamento arre...|Appartamento nuov...|    19|\n",
            "+--------------------+--------------------+------+\n",
            "only showing top 20 rows\n",
            "\n"
          ],
          "name": "stdout"
        },
        {
          "output_type": "execute_result",
          "data": {
            "text/plain": [
              "DataFrame[Title: string, Short Description: string, doc_id: bigint]"
            ]
          },
          "metadata": {
            "tags": []
          },
          "execution_count": 6
        }
      ]
    },
    {
      "cell_type": "code",
      "metadata": {
        "id": "WWPxDMw-hEXV"
      },
      "source": [
        "def shingling_map(row):\n",
        "    out = [] \n",
        "    sh_instance = shingler(10)\n",
        "    hashed_shingles = sh_instance.get_hashed_shingles( sh_instance.get_shingles( row['Title']+\" \"+row['Short Description'] ) ) \n",
        "    signature_size = 50\n",
        "    for i in range(0,signature_size): #signature size\n",
        "        out.append( (row['doc_id'], hashed_shingles, i ) ) \n",
        "    #return an iterator to use flatMap => produce more than one key-value pair as output (namely one per hash function)\n",
        "    return iter(out)\n",
        "\n",
        "    \n",
        "#Use rdd.collect() to get all data from workers to driver. In the specific case it returns a list of [(doc_id, shingle_set),...] where shingle_set = [sh1,sh2,...sh_n]\n",
        "docId_shingleset_hfunc = dataset.rdd.flatMap(shingling_map)"
      ],
      "execution_count": null,
      "outputs": []
    },
    {
      "cell_type": "code",
      "metadata": {
        "colab": {
          "base_uri": "https://localhost:8080/"
        },
        "id": "2USmB3iGhEut",
        "outputId": "f8d04fc4-b6c6-4d74-d67f-9a816e95ceae"
      },
      "source": [
        "def minhash_map(docId_ShingleSet_hFunct):\n",
        "    doc_id = docId_ShingleSet_hFunct[0]\n",
        "    shingles = docId_ShingleSet_hFunct[1]\n",
        "    hash_f = hashFamily( docId_ShingleSet_hFunct[2] )\n",
        "    min_h = math.inf\n",
        "    for el in shingles:\n",
        "        hash_value = hash_f.get_hash_value(el)\n",
        "        if hash_value < min_h:\n",
        "            min_h = hash_value\n",
        "            \n",
        "    return (doc_id, min_h )\n",
        "\n",
        "\n",
        "# as Reduce step we use the built in groupByKey() since no extra operation is needed.\n",
        "sig_matrix = docId_shingleset_hfunc.map(minhash_map).groupByKey().map(lambda x : (x[0], list(x[1])))\n",
        "sig_matrix.persist() # to do not compute it every time since its an expensive computation\n"
      ],
      "execution_count": null,
      "outputs": [
        {
          "output_type": "execute_result",
          "data": {
            "text/plain": [
              "PythonRDD[31] at RDD at PythonRDD.scala:53"
            ]
          },
          "metadata": {
            "tags": []
          },
          "execution_count": 9
        }
      ]
    },
    {
      "cell_type": "code",
      "metadata": {
        "id": "yKarCxylhIvO"
      },
      "source": [
        "def map_buckets(row):\n",
        "    \n",
        "    band_nr = 5\n",
        "    row_nr = 10\n",
        "    doc_id = row[0]\n",
        "    doc_sign = row[1]\n",
        "    hash_funct = hashFamily(1)\n",
        "    out = []\n",
        "    \n",
        "    for i in range(0,band_nr):\n",
        "        band_id = i\n",
        "        idx = i*row_nr   \n",
        "        set_col = ' '.join(str(x) for x in doc_sign[idx:idx+row_nr])\n",
        "        bucket = hash_funct.get_hash_value(set_col)\n",
        "        out.append( ( (band_id, bucket), doc_id)  )\n",
        "    \n",
        "    return iter(out) #since we are going to return multiple tuple we call flatMap() and return an iterator on those tuple\n",
        "    \n",
        "candidates = sig_matrix.flatMap(map_buckets).groupByKey().map(lambda x : (x[0], list(x[1]))) #the map() is used to convert iterator to a list"
      ],
      "execution_count": null,
      "outputs": []
    },
    {
      "cell_type": "code",
      "metadata": {
        "colab": {
          "base_uri": "https://localhost:8080/"
        },
        "id": "_AScZSsojXwE",
        "outputId": "33273c8d-7880-431b-d14d-116e6457328a"
      },
      "source": [
        "!java -version"
      ],
      "execution_count": null,
      "outputs": [
        {
          "output_type": "stream",
          "text": [
            "openjdk version \"1.8.0_282\"\n",
            "OpenJDK Runtime Environment (build 1.8.0_282-8u282-b08-0ubuntu1~18.04-b08)\n",
            "OpenJDK 64-Bit Server VM (build 25.282-b08, mixed mode)\n"
          ],
          "name": "stdout"
        }
      ]
    },
    {
      "cell_type": "code",
      "metadata": {
        "colab": {
          "base_uri": "https://localhost:8080/"
        },
        "id": "Dcka50Izh5Sb",
        "outputId": "7f5cb666-93c5-4b77-8335-16ecaf5a7a6c"
      },
      "source": [
        "similar_pairs = set()\n",
        "sig_df = sig_matrix\n",
        "sig_df.persist() #store it in memory to avoid lazy behaviour\n",
        "sig_df = sig_df.collect() #collect all the distributed record to speedup computation\n",
        "start_time = time.time()\n",
        "\n",
        "for candidates_list in candidates.map(lambda x: x[1]).collect(): #collecting all candidate lists from worker nodes\n",
        "    \n",
        "    candidates_nr = len(candidates_list)\n",
        "    \n",
        "    for i in range(0,candidates_nr-1):\n",
        "        for j in range(i+1,candidates_nr):\n",
        "            \n",
        "            doc_id_1 = candidates_list[i]\n",
        "            doc_id_2 = candidates_list[j]\n",
        "            \n",
        "            docId_Sig_1 = sig_df[doc_id_1]\n",
        "            docId_Sig_2 = sig_df[doc_id_2]\n",
        "            if docId_Sig_1[0] != doc_id_1:\n",
        "                raise Exception(\"DocId is %d while retrived %d from signature matrix.\"%(doc_id_1,docId_Sig_1[0]))\n",
        "            if docId_Sig_2[0] != doc_id_2:\n",
        "                raise Exception(\"DocId is %d while retrived %d from signature matrix.\"%(doc_id_1,docId_Sig_2[0])) \n",
        "                \n",
        "            sig_1 = set(docId_Sig_1[1]) #transform signature into a set\n",
        "            sig_2 = set(docId_Sig_2[1])\n",
        "            #sig_1 = sig_df.filter(\"_1 ==\"+\" \"+ str(doc_id_1) ).select('_2') #get signature of doc 1\n",
        "            #sig_2 = sig_df.filter(\"_1 ==\"+\" \"+ str(doc_id_2) ).select('_2') #get signature of doc 2\n",
        "            \n",
        "            #sig_2 = set(sig_2.collect()[0]['_2'])\n",
        "            js = len(sig_1.intersection(sig_2) ) / len(sig_1.union(sig_2) ) #Compute Jaccard'Similarity\n",
        "            if js >= 0.8:\n",
        "                pair = tuple(sorted((doc_id_1,doc_id_2) ))\n",
        "                similar_pairs.add(  pair   ) \n",
        "\n",
        "end_time = time.time()  \n",
        "\n",
        "lsh_time = end_time - start_time\n",
        "\n",
        "print(\"FOUND %d SIMILAR PAIRS\" %len(similar_pairs))\n",
        "\n",
        "#sim_pairs = candidates.flatMap(get_similar_items).groupByKey().map(lambda x : (x[0], set(serted(x[1]))))"
      ],
      "execution_count": null,
      "outputs": [
        {
          "output_type": "stream",
          "text": [
            "FOUND 10322 SIMILAR PAIRS\n"
          ],
          "name": "stdout"
        }
      ]
    },
    {
      "cell_type": "code",
      "metadata": {
        "colab": {
          "base_uri": "https://localhost:8080/"
        },
        "id": "N4Ijy3k8pnZI",
        "outputId": "2394d024-2380-4d8d-b095-ac25f12392f2"
      },
      "source": [
        "DocID_Shingles=docId_shingleset_hfunc.map(lambda x: (x[0],x[1]) ).reduceByKey(lambda x,y: x).collect()\n",
        "#DocID_Shingles.persist()\n",
        "doc_nr = len(DocID_Shingles)\n",
        "similar_pairs_bf = set()\n",
        "\n",
        "start_time = time.time()\n",
        "\n",
        "for i in range(0,doc_nr-1):\n",
        "    for j in range(i,doc_nr):\n",
        "        doc_id_1 = DocID_Shingles[i][0] #DocID_Shingles[i] is  tuple (doc_id, shingle_set)\n",
        "        doc_id_2 = DocID_Shingles[j][0]\n",
        "        \n",
        "        sig_1 = set(DocID_Shingles[i][1]) #transform shingle_set into a python set data structure\n",
        "        sig_2 = set(DocID_Shingles[j][1])\n",
        "        js = len(sig_1.intersection(sig_2) ) / len(sig_1.union(sig_2) ) #Compute Jaccard'Similarity\n",
        "        if js >= 0.8:\n",
        "            pair = tuple(sorted((doc_id_1,doc_id_2) ))\n",
        "            similar_pairs_bf.add(  pair   ) \n",
        "            \n",
        "end_time = time.time()\n",
        "    \n",
        "bf_time = end_time - start_time \n",
        "\n",
        "print(\"FOUND %d SIMILAR PAIRS WITH BRUTEFORCE\" %len(similar_pairs_bf))"
      ],
      "execution_count": null,
      "outputs": [
        {
          "output_type": "stream",
          "text": [
            "FOUND 12986 SIMILAR PAIRS WITH BRUTEFORCE\n"
          ],
          "name": "stdout"
        }
      ]
    },
    {
      "cell_type": "code",
      "metadata": {
        "colab": {
          "base_uri": "https://localhost:8080/"
        },
        "id": "qjSlgq0MrlHZ",
        "outputId": "f06a9156-fd59-478d-a681-991f7d8d9086"
      },
      "source": [
        "print(\"EXECUTION REPORT\")\n",
        "print(\"LSH\\n%d\\tSIMILAR ITEMS\\n%.2f\\tSECONDS\\n\"%(len(similar_pairs), lsh_time))\n",
        "print(\"BRUTEFORCE\\n%d\\tSIMILAR ITEMS\\n%.2f\\tSECONDS\\n\"%(len(similar_pairs_bf), bf_time))\n",
        "print(\"%d SIMILAR PAIR DISCOVERED WITH BRUTEFORCE AND LSH\\n\"%( len(similar_pairs.intersection(similar_pairs_bf)) ))\n",
        "\n",
        "print(\"%d NUMBER OF FALSE POSITIVE SIMILARITIES WITH LSH\\n\"%(len(similar_pairs) - len(similar_pairs.intersection(similar_pairs_bf)) ) )\n",
        "\n",
        "print(\"%d NON DETECTED SIMILARITIES BY LSH\"%(len(similar_pairs_bf) - len(similar_pairs.intersection(similar_pairs_bf))) )"
      ],
      "execution_count": null,
      "outputs": [
        {
          "output_type": "stream",
          "text": [
            "EXECUTION REPORT\n",
            "LSH\n",
            "10322\tSIMILAR ITEMS\n",
            "0.89\tSECONDS\n",
            "\n",
            "BRUTEFORCE\n",
            "12986\tSIMILAR ITEMS\n",
            "329.28\tSECONDS\n",
            "\n",
            "10321 SIMILAR PAIR DISCOVERED WITH BRUTEFORCE AND LSH\n",
            "\n",
            "1 NUMBER OF FALSE POSITIVE SIMILARITIES WITH LSH\n",
            "\n",
            "2665 NON DETECTED SIMILARITIES BY LSH\n"
          ],
          "name": "stdout"
        }
      ]
    },
    {
      "cell_type": "code",
      "metadata": {
        "colab": {
          "base_uri": "https://localhost:8080/"
        },
        "id": "w6oErOqUrpaz",
        "outputId": "6defcbee-a714-4e23-8fc9-27a774c0a12f"
      },
      "source": [
        "#LSH\n",
        "\n",
        "for i in range(0,10):\n",
        "    pair = similar_pairs.pop()\n",
        "    doc1 = pair[0]\n",
        "    doc2 = pair[1]\n",
        "    print(\"Doc: \"+str(i))\n",
        "    dataset.where('doc_id == '+str(doc1)).show()\n",
        "    print(\"Similar Doc:\")\n",
        "    dataset.where('doc_id == '+str(doc2)).show()\n",
        "    print(\"\\n\\n\")"
      ],
      "execution_count": null,
      "outputs": [
        {
          "output_type": "stream",
          "text": [
            "Doc: 0\n",
            "+--------------------+--------------------+------+\n",
            "|               Title|   Short Description|doc_id|\n",
            "+--------------------+--------------------+------+\n",
            "|Negozio 169Mq per...|Privato affitta n...|   266|\n",
            "+--------------------+--------------------+------+\n",
            "\n",
            "Similar Doc:\n",
            "+--------------------+--------------------+------+\n",
            "|               Title|   Short Description|doc_id|\n",
            "+--------------------+--------------------+------+\n",
            "|Negozio 169Mq per...|Privato affitta n...|  2034|\n",
            "+--------------------+--------------------+------+\n",
            "\n",
            "\n",
            "\n",
            "\n",
            "Doc: 1\n",
            "+--------------------+--------------------+------+\n",
            "|               Title|   Short Description|doc_id|\n",
            "+--------------------+--------------------+------+\n",
            "|Negozi C1 in via ...|Privato affitta n...|   714|\n",
            "+--------------------+--------------------+------+\n",
            "\n",
            "Similar Doc:\n",
            "+--------------------+--------------------+------+\n",
            "|               Title|   Short Description|doc_id|\n",
            "+--------------------+--------------------+------+\n",
            "|Negozi C1 in via ...|Privato affitta n...|  2584|\n",
            "+--------------------+--------------------+------+\n",
            "\n",
            "\n",
            "\n",
            "\n",
            "Doc: 2\n",
            "+-----------+--------------------+------+\n",
            "|      Title|   Short Description|doc_id|\n",
            "+-----------+--------------------+------+\n",
            "|Eur Centro |Affitto studio pr...|   252|\n",
            "+-----------+--------------------+------+\n",
            "\n",
            "Similar Doc:\n",
            "+-----------+--------------------+------+\n",
            "|      Title|   Short Description|doc_id|\n",
            "+-----------+--------------------+------+\n",
            "|Eur Centro |Affitto studio pr...|   411|\n",
            "+-----------+--------------------+------+\n",
            "\n",
            "\n",
            "\n",
            "\n",
            "Doc: 3\n",
            "+--------------------+--------------------+------+\n",
            "|               Title|   Short Description|doc_id|\n",
            "+--------------------+--------------------+------+\n",
            "|Negozi C1 in via ...|Privato affitta n...|   529|\n",
            "+--------------------+--------------------+------+\n",
            "\n",
            "Similar Doc:\n",
            "+--------------------+--------------------+------+\n",
            "|               Title|   Short Description|doc_id|\n",
            "+--------------------+--------------------+------+\n",
            "|Negozi C1 in via ...|Privato affitta n...|  1132|\n",
            "+--------------------+--------------------+------+\n",
            "\n",
            "\n",
            "\n",
            "\n",
            "Doc: 4\n",
            "+--------------------+--------------------+------+\n",
            "|               Title|   Short Description|doc_id|\n",
            "+--------------------+--------------------+------+\n",
            "|Negozi C1 in via ...|Privato affitta n...|   912|\n",
            "+--------------------+--------------------+------+\n",
            "\n",
            "Similar Doc:\n",
            "+--------------------+--------------------+------+\n",
            "|               Title|   Short Description|doc_id|\n",
            "+--------------------+--------------------+------+\n",
            "|Negozi C1 in via ...|Privato affitta n...|  1396|\n",
            "+--------------------+--------------------+------+\n",
            "\n",
            "\n",
            "\n",
            "\n",
            "Doc: 5\n",
            "+--------------------+--------------------+------+\n",
            "|               Title|   Short Description|doc_id|\n",
            "+--------------------+--------------------+------+\n",
            "|Negozio 169Mq per...|Privato affitta n...|   221|\n",
            "+--------------------+--------------------+------+\n",
            "\n",
            "Similar Doc:\n",
            "+--------------------+--------------------+------+\n",
            "|               Title|   Short Description|doc_id|\n",
            "+--------------------+--------------------+------+\n",
            "|Negozio 169Mq per...|Privato affitta n...|  1220|\n",
            "+--------------------+--------------------+------+\n",
            "\n",
            "\n",
            "\n",
            "\n",
            "Doc: 6\n",
            "+--------------------+--------------------+------+\n",
            "|               Title|   Short Description|doc_id|\n",
            "+--------------------+--------------------+------+\n",
            "|Avviato studio ps...|Avviato studio di...|   110|\n",
            "+--------------------+--------------------+------+\n",
            "\n",
            "Similar Doc:\n",
            "+--------------------+--------------------+------+\n",
            "|               Title|   Short Description|doc_id|\n",
            "+--------------------+--------------------+------+\n",
            "|Avviato studio ps...|Avviato studio di...|  2429|\n",
            "+--------------------+--------------------+------+\n",
            "\n",
            "\n",
            "\n",
            "\n",
            "Doc: 7\n",
            "+-------------------+--------------------+------+\n",
            "|              Title|   Short Description|doc_id|\n",
            "+-------------------+--------------------+------+\n",
            "|Monteverde vecchio |MONTEVERDE VECCHI...|   288|\n",
            "+-------------------+--------------------+------+\n",
            "\n",
            "Similar Doc:\n",
            "+-------------------+--------------------+------+\n",
            "|              Title|   Short Description|doc_id|\n",
            "+-------------------+--------------------+------+\n",
            "|Monteverde vecchio |MONTEVERDE VECCHI...|  2009|\n",
            "+-------------------+--------------------+------+\n",
            "\n",
            "\n",
            "\n",
            "\n",
            "Doc: 8\n",
            "+--------------------+--------------------+------+\n",
            "|               Title|   Short Description|doc_id|\n",
            "+--------------------+--------------------+------+\n",
            "|Attico ad. Parlam...|In palazzo d''epo...|  2058|\n",
            "+--------------------+--------------------+------+\n",
            "\n",
            "Similar Doc:\n",
            "+--------------------+--------------------+------+\n",
            "|               Title|   Short Description|doc_id|\n",
            "+--------------------+--------------------+------+\n",
            "|Attico ad. Parlam...|In palazzo d''epo...|  2419|\n",
            "+--------------------+--------------------+------+\n",
            "\n",
            "\n",
            "\n",
            "\n",
            "Doc: 9\n",
            "+--------------------+--------------------+------+\n",
            "|               Title|   Short Description|doc_id|\n",
            "+--------------------+--------------------+------+\n",
            "|Avviato studio ps...|Avviato studio di...|   823|\n",
            "+--------------------+--------------------+------+\n",
            "\n",
            "Similar Doc:\n",
            "+--------------------+--------------------+------+\n",
            "|               Title|   Short Description|doc_id|\n",
            "+--------------------+--------------------+------+\n",
            "|Avviato studio ps...|Avviato studio di...|  1527|\n",
            "+--------------------+--------------------+------+\n",
            "\n",
            "\n",
            "\n",
            "\n"
          ],
          "name": "stdout"
        }
      ]
    },
    {
      "cell_type": "code",
      "metadata": {
        "id": "gb-BN3WbrtoX"
      },
      "source": [
        ""
      ],
      "execution_count": null,
      "outputs": []
    }
  ]
}